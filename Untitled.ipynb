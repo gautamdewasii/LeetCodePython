{
 "cells": [
  {
   "cell_type": "code",
   "execution_count": 1,
   "id": "79726aa3-5667-469c-94f6-c6af6dc92d42",
   "metadata": {
    "editable": true,
    "slideshow": {
     "slide_type": ""
    },
    "tags": []
   },
   "outputs": [],
   "source": [
    "nums=[1,2,3,4]"
   ]
  },
  {
   "cell_type": "code",
   "execution_count": 2,
   "id": "171718b4-c15c-4c55-9e7c-b577cb22d236",
   "metadata": {},
   "outputs": [],
   "source": [
    "sum1=sum(nums)"
   ]
  },
  {
   "cell_type": "code",
   "execution_count": 3,
   "id": "f80c8c8a-c473-4412-8d92-5721606faeb3",
   "metadata": {},
   "outputs": [],
   "source": [
    "sum1=3"
   ]
  },
  {
   "cell_type": "code",
   "execution_count": null,
   "id": "7ab08f8a-2930-422c-9dda-a92e0ea5f70f",
   "metadata": {
    "editable": true,
    "slideshow": {
     "slide_type": ""
    },
    "tags": []
   },
   "outputs": [],
   "source": []
  }
 ],
 "metadata": {
  "kernelspec": {
   "display_name": "Python 3 (ipykernel)",
   "language": "python",
   "name": "python3"
  },
  "language_info": {
   "codemirror_mode": {
    "name": "ipython",
    "version": 3
   },
   "file_extension": ".py",
   "mimetype": "text/x-python",
   "name": "python",
   "nbconvert_exporter": "python",
   "pygments_lexer": "ipython3",
   "version": "3.11.2"
  }
 },
 "nbformat": 4,
 "nbformat_minor": 5
}
