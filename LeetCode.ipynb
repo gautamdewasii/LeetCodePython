{
 "cells": [
  {
   "cell_type": "code",
   "execution_count": 1,
   "id": "7af7a985-d390-47c9-905f-5818c87920c7",
   "metadata": {},
   "outputs": [],
   "source": [
    "from typing import List"
   ]
  },
  {
   "cell_type": "markdown",
   "id": "0b6bc38b-1f27-4841-8ee5-1962218b89ca",
   "metadata": {},
   "source": [
    "# TWO SUM\n",
    "\n",
    "Input: nums = [2,7,11,15], target = 9\n",
    "Output: [0,1]\n",
    "Explanation: Because nums[0] + nums[1] == 9, we return [0, 1].\n",
    "\n",
    "Example 2:\n",
    "\n",
    "Input: nums = [3,2,4], target = 6\n",
    "Output: [1,2]\n",
    "\n",
    "Example 3:\n",
    "\n",
    "Input: nums = [3,3], target = 6\n",
    "Output: [0,1]\n"
   ]
  },
  {
   "cell_type": "markdown",
   "id": "7d906730-3a56-4035-b395-f04acd38a7de",
   "metadata": {},
   "source": [
    "#### BRUTE FORCE\n",
    "###### O(N*N)\n",
    "###### SPACE COMPLEXITY O(1)"
   ]
  },
  {
   "cell_type": "code",
   "execution_count": 17,
   "id": "fa8513c9-f48c-4ecd-b86d-b881c5b38328",
   "metadata": {},
   "outputs": [
    {
     "name": "stdout",
     "output_type": "stream",
     "text": [
      "[0, 1]\n",
      "[1, 2]\n",
      "[0, 1]\n"
     ]
    }
   ],
   "source": [
    "\"\"\"\n",
    "List[int] defines the type of 'nums' object\n",
    "'target' is of int type\n",
    "return type is of List[int]  ( -> denoted return )\n",
    "\"\"\"\n",
    "def twoSum(nums: List[int], target: int) -> List[int]:\n",
    "    # range (0,5) means 0,1,2,3,4\n",
    "    for i in range(0,len(nums)-1):\n",
    "        for j in range(i+1,len(nums)):\n",
    "            if nums[i]+nums[j]==target:\n",
    "                return [i,j]\n",
    "    return [-1,-1]\n",
    "\n",
    "print(twoSum([2,7,11,15],9))\n",
    "print(twoSum([3,2,4],6))\n",
    "print(twoSum([3,3],6))"
   ]
  },
  {
   "cell_type": "markdown",
   "id": "7b159bd7-a95f-4aba-b72c-fc8dd801ddc7",
   "metadata": {},
   "source": [
    "#### USING HashMap \n",
    "###### O(N)\n",
    "###### SPACE COMPLEXITY O(N)"
   ]
  },
  {
   "cell_type": "code",
   "execution_count": 21,
   "id": "e1091e0b-35d9-480a-aac0-a2eb3c522737",
   "metadata": {},
   "outputs": [
    {
     "name": "stdout",
     "output_type": "stream",
     "text": [
      "[0, 1]\n",
      "[1, 2]\n",
      "[0, 1]\n"
     ]
    }
   ],
   "source": [
    "def twoSum(nums: List[int], target: int) -> List[int]:\n",
    "\n",
    "    \"\"\"\n",
    "    previewMap ( hashmap) will contain the indexes and values of visited array elements.\n",
    "    if 'difference' ( target-current_value) exist in hashmap, it will return.\n",
    "    \"\"\"\n",
    "    previewMap = {}  # { indexes , values }\n",
    "\n",
    "    # enumerate() will return indexes and values of any array\n",
    "    for index,value in enumerate(nums):\n",
    "        \n",
    "        difference = target - value\n",
    "        # checking if difference exist in hashmap or not\n",
    "        if difference in previewMap:\n",
    "            return [previewMap[difference],index]\n",
    "        # if not , then added current element into hashmap\n",
    "        elif value not in previewMap:\n",
    "            previewMap[value]=index\n",
    "    return\n",
    "\n",
    "\n",
    "print(twoSum([2,7,11,15],9))\n",
    "print(twoSum([3,2,4],6))\n",
    "print(twoSum([3,3],6))"
   ]
  },
  {
   "cell_type": "markdown",
   "id": "70008bc0-c740-4d9c-a571-0fc855ace2b2",
   "metadata": {},
   "source": [
    "# Palindrome Number\n",
    "Given an integer x, return true if x is a\n",
    "palindrome\n",
    ", and false otherwise.\n",
    "\n",
    " \n",
    "\n",
    "Example 1:\n",
    "\n",
    "Input: x = 121\n",
    "Output: true\n",
    "Explanation: 121 reads as 121 from left to right and from right to left.\n",
    "\n",
    "Example 2:\n",
    "\n",
    "Input: x = -121\n",
    "Output: false\n",
    "Explanation: From left to right, it reads -121. From right to left, it becomes 121-. Therefore it is not a palindrome.\n",
    "\n",
    "Example 3:\n",
    "\n",
    "Input: x = 10\n",
    "Output: false\n",
    "Explanation: Reads 01 from right to left. Therefore it is not a palindrome.\n",
    "\n",
    " \n",
    "\n",
    "Constraints:\n",
    "\n",
    "    -231 <= x <= 231 - 1\n",
    "\n",
    " \n",
    "Follow up: Could you solve it without converting the integer to a string?"
   ]
  },
  {
   "cell_type": "markdown",
   "id": "3413abd1-8af2-466b-af23-9a53c0614620",
   "metadata": {},
   "source": [
    "#### By Creating new Variable and adding reverse of given number and then comapring it\n",
    "\n",
    "Time complexity - O(N)\n",
    "Space complexity - O(1)"
   ]
  },
  {
   "cell_type": "code",
   "execution_count": 2,
   "id": "6af7fb28-47e9-4f88-84f1-414ec38692d5",
   "metadata": {},
   "outputs": [
    {
     "name": "stdout",
     "output_type": "stream",
     "text": [
      "False\n"
     ]
    }
   ],
   "source": [
    "# isPalindrome() return type is bool\n",
    "def isPalindrome(x: int) -> bool:\n",
    "\n",
    "    # if any value is negative , it always not a palindrome number\n",
    "    if x<0:\n",
    "        return False\n",
    "    \n",
    "    # for creating reverse number from given 'x'\n",
    "    sum=0\n",
    "    \"\"\"\n",
    "    To get right most value of 'x' variable,\n",
    "    which then added to 'sum'\n",
    "    \"\"\"\n",
    "    right=0\n",
    "    temp=x\n",
    "    \n",
    "    while temp>0:\n",
    "        right=temp%10\n",
    "        sum=(sum*10)+right\n",
    "        temp=temp//10\n",
    "        \n",
    "    if sum==x:\n",
    "        return True\n",
    "    else:\n",
    "        return False\n",
    "\n",
    "print(isPalindrome(1211421))"
   ]
  },
  {
   "cell_type": "markdown",
   "id": "88e88666-c547-4495-8041-cf97a4032f6c",
   "metadata": {},
   "source": [
    "#### By Comparing Left most value with right most value\n",
    "O(N)\n",
    "Time(1)"
   ]
  },
  {
   "cell_type": "code",
   "execution_count": 9,
   "id": "8ec91be6-3453-4b43-8219-cefd2a9a2bf7",
   "metadata": {},
   "outputs": [
    {
     "name": "stdout",
     "output_type": "stream",
     "text": [
      "False\n"
     ]
    }
   ],
   "source": [
    "def isPalindrome(x: int) -> bool:\n",
    "\n",
    "    \n",
    "    if x<0:\n",
    "        return False\n",
    "\n",
    "    # divider will help to get left most value form 'x'\n",
    "    divider=1;\n",
    "\n",
    "    while x>= 10*divider:\n",
    "        divider*=10\n",
    "\n",
    "    while x:\n",
    "        right=x%10\n",
    "        left=x//divider\n",
    "\n",
    "        if left!=right:\n",
    "            return False\n",
    "\n",
    "        x=(x%divider)//10\n",
    "\n",
    "        # divided by 100, so that for every iteration we get the left most value\n",
    "        divider=divider//100\n",
    "    return True\n",
    "\n",
    "print(isPalindrome(12165121))"
   ]
  },
  {
   "cell_type": "markdown",
   "id": "4b0ef037-a2fe-4984-b20f-29185b3ddaf0",
   "metadata": {},
   "source": [
    "# Roman to Integer\n",
    "Roman numerals are represented by seven different symbols: I, V, X, L, C, D and M.\n",
    "\n",
    "Symbol       Value\n",
    "I             1\n",
    "V             5\n",
    "X             10\n",
    "L             50\n",
    "C             100\n",
    "D             500\n",
    "M             1000\n",
    "\n",
    "For example, 2 is written as II in Roman numeral, just two ones added together.<br>\n",
    "12 is written as XII, which is simply X + II. The number 27 is written as XXVII, which is XX + V + II.\n",
    " \n",
    "\n",
    "Example 1:\n",
    "\n",
    "Input: s = \"III\"\n",
    "Output: 3\n",
    "Explanation: III = 3.\n",
    "\n",
    "Example 2:\n",
    "\n",
    "Input: s = \"LVIII\"\n",
    "Output: 58\n",
    "Explanation: L = 50, V= 5, III = 3.\n",
    "\n",
    "Example 3:\n",
    "\n",
    "Input: s = \"MCMXCIV\"\n",
    "Output: 1994\n",
    "Explanation: M = 1000, CM = 900, XC = 90 and IV = 4.\n",
    "\n",
    " \n",
    "\n",
    "Constraints:\n",
    "\n",
    "    1 <= s.length <= 15\n",
    "    s contains only the characters ('I', 'V', 'X', 'L', 'C', 'D', 'M').\n",
    "    It is guaranteed that s is a valid roman numeral in the range [1, 3999].\n",
    "\n"
   ]
  },
  {
   "cell_type": "code",
   "execution_count": 1,
   "id": "01d012f0-6390-464f-b4cc-6b37934ed2c6",
   "metadata": {},
   "outputs": [
    {
     "name": "stdout",
     "output_type": "stream",
     "text": [
      "1994\n"
     ]
    }
   ],
   "source": [
    "def romanToInt(s: str) -> int:\n",
    "\n",
    "    # HashMap for defining the extual values of roman characters\n",
    "    roman_values={\n",
    "        \"I\":1, \"V\":5,\"X\":10,\"L\":50,\"C\":100,\"D\":500,\"M\":1000\n",
    "    }\n",
    "\n",
    "    # to sum all the values of roman characters of a string\n",
    "    sum=0\n",
    "\n",
    "    # from 0 to n-1\n",
    "    for i in range(len(s)):\n",
    "\n",
    "        \"\"\"\n",
    "        i+1 is so that last element should not be compared with any junk value\n",
    "        chechking if current roman char is smaller than the next one or not\n",
    "        \"\"\"\n",
    "        if i+1<len(s) and roman_values[s[i]] < roman_values[s[i+1]]:\n",
    "\n",
    "            # if true, substract that value from the 'sum'\n",
    "            sum -=roman_values[s[i]]\n",
    "        else:\n",
    "\n",
    "            # if not , add that value to the 'sum'\n",
    "            sum +=roman_values[s[i]]\n",
    "\n",
    "    return sum\n",
    "\n",
    "print(romanToInt(\"MCMXCIV\"))"
   ]
  },
  {
   "cell_type": "markdown",
   "id": "154f2bb6-0001-4f42-b0e4-c57e4d8ab707",
   "metadata": {},
   "source": [
    "# Longest Common Prefix\n"
   ]
  },
  {
   "cell_type": "markdown",
   "id": "cbaeef42-9f1f-41e0-a248-0aee42eacf3e",
   "metadata": {},
   "source": [
    "Write a function to find the longest common prefix string amongst an array of strings.\n",
    "\n",
    "If there is no common prefix, return an empty string \"\".\n",
    "\n",
    " \n",
    "\n",
    "Example 1:\n",
    "\n",
    "Input: strs = [\"flower\",\"flow\",\"flight\"]\n",
    "Output: \"fl\"\n",
    "\n",
    "Example 2:\n",
    "\n",
    "Input: strs = [\"dog\",\"racecar\",\"car\"]\n",
    "Output: \"\"\n",
    "Explanation: There is no common prefix among the input strings.\n"
   ]
  },
  {
   "cell_type": "code",
   "execution_count": 18,
   "id": "8fa12356-6958-40b1-a34a-32d25fb08546",
   "metadata": {},
   "outputs": [
    {
     "name": "stdout",
     "output_type": "stream",
     "text": [
      "\n",
      "2\n"
     ]
    }
   ],
   "source": [
    "def longestCommonPrefix(strs: List[str]) -> str:\n",
    "\n",
    "    comman=\"\"\n",
    "    if len(strs)==0 or len(strs)==1:\n",
    "        return comman\n",
    "\n",
    "    for i in range(len(strs[0])):\n",
    "        for s in strs[1:]:\n",
    "            if s[i]!=strs[0][i] or i==len(s):\n",
    "                return comman\n",
    "        comman+=strs[0][i]\n",
    "    return comman\n",
    "\n",
    "\n",
    "strs = [\"flower\",\"flow\",\"flight\"]\n",
    "strs1=[\"dog\",\"racecar\",\"car\"]\n",
    "print(longestCommonPrefix([\"a\"]))\n",
    "\n",
    "strs2=[\"1\",\"2\"]\n",
    "print(len(strs2))\n",
    "            "
   ]
  },
  {
   "cell_type": "markdown",
   "id": "a85fa16f-9714-438f-a1b0-575f6c328613",
   "metadata": {},
   "source": [
    "# Fizz Buzz ( 412 )\n",
    "\n",
    "\n",
    "Given an integer n, return a string array answer (1-indexed) where:\n",
    "\n",
    "    answer[i] == \"FizzBuzz\" if i is divisible by 3 and 5.\n",
    "    answer[i] == \"Fizz\" if i is divisible by 3.\n",
    "    answer[i] == \"Buzz\" if i is divisible by 5.\n",
    "    answer[i] == i (as a string) if none of the above conditions are true.\n",
    "\n",
    " \n",
    "\n",
    "Example 1:\n",
    "\n",
    "Input: n = 3\n",
    "Output: [\"1\",\"2\",\"Fizz\"]\n",
    "\n",
    "Example 2:\n",
    "\n",
    "Input: n = 5\n",
    "Output: [\"1\",\"2\",\"Fizz\",\"4\",\"Buzz\"]\n",
    "\n"
   ]
  },
  {
   "cell_type": "markdown",
   "id": "0fd6d40e-12a2-42b1-ad02-21f74adb39ec",
   "metadata": {},
   "source": [
    "#### Using % operator \n",
    "O(N) -> due to for loop\n",
    "Time(N) -> due to append() function"
   ]
  },
  {
   "cell_type": "code",
   "execution_count": 23,
   "id": "355aa789-2a67-405b-9f2c-f17fe69d7886",
   "metadata": {},
   "outputs": [
    {
     "name": "stdout",
     "output_type": "stream",
     "text": [
      "['1', '2', 'Fizz', '4', 'Buzz', 'Fizz', '7', '8', 'Fizz', 'Buzz', '11', 'Fizz', '13', '14', 'FizzBuzz']\n"
     ]
    }
   ],
   "source": [
    "def fizzBuzz(n: int) -> List[str]:\n",
    "\n",
    "    answer = []\n",
    "    for i in range(1,n+1):\n",
    "        if i%15==0:\n",
    "            answer.append(\"FizzBuzz\")\n",
    "        elif i%3==0:\n",
    "            answer.append(\"Fizz\")\n",
    "        elif i%5==0:\n",
    "            answer.append(\"Buzz\")\n",
    "        else:\n",
    "            answer.append(str(i))\n",
    "    return answer\n",
    "\n",
    "print(fizzBuzz(15))"
   ]
  },
  {
   "cell_type": "markdown",
   "id": "51273656-0e61-414d-b1bc-2724ff3f14cd",
   "metadata": {},
   "source": [
    "#### Without use of % operator\n",
    "O(N)\n",
    "Time(n)"
   ]
  },
  {
   "cell_type": "code",
   "execution_count": 22,
   "id": "b489bfbd-74cf-4389-8c91-79d729ff0da4",
   "metadata": {
    "scrolled": true
   },
   "outputs": [
    {
     "name": "stdout",
     "output_type": "stream",
     "text": [
      "['1', '2', 'Fizz', '4', 'Buzz', 'Fizz', '7', '8', 'Fizz', 'Buzz', '11', 'Fizz', '13', '14', 'FizzBuzz']\n"
     ]
    }
   ],
   "source": [
    "def fizzBuzz(n: int) -> List[str]:\n",
    "    f, b, fb = 'Fizz', 'Buzz', 'FizzBuzz'\n",
    "\n",
    "    # It will store upto nth elements in arr ( 1 to n )\n",
    "    answer = [str(x + 1) for x in range(n)]        \n",
    "        \n",
    "    # if n%3==0 add \"Fizz\" to list\n",
    "    for i in range(2, n, 3):\n",
    "        answer[i] = f\n",
    "\n",
    "    # if n%5==0 add \"Buzz\" to list\n",
    "    for i in range(4, n, 5):\n",
    "        answer[i] = b\n",
    "        \n",
    "    # if n%15 add \"FizzBuzz\" to list\n",
    "    for i in range(14, n, 15):\n",
    "        answer[i] = fb\n",
    "    \n",
    "    return answer\n",
    "\n",
    "\n",
    "print(fizzBuzz(15))"
   ]
  },
  {
   "cell_type": "markdown",
   "id": "73648e4c-e299-4f68-8da4-62e95d12b3e4",
   "metadata": {},
   "source": [
    "# Valid Parentheses ( 20 ) :-\n",
    "\n",
    "Given a string s containing just the characters '(', ')', '{', '}', '[' and ']', determine if the input string is valid.\n",
    "\n",
    "An input string is valid if:\n",
    "\n",
    "    Open brackets must be closed by the same type of brackets.\n",
    "    Open brackets must be closed in the correct order.\n",
    "    Every close bracket has a corresponding open bracket of the same type.\n",
    "\n",
    "Example 1:\n",
    "\n",
    "Input: s = \"()\"\n",
    "Output: true\n",
    "\n",
    "Example 2:\n",
    "\n",
    "Input: s = \"()[]{}\"\n",
    "Output: true\n",
    "\n",
    "Example 3:\n",
    "\n",
    "Input: s = \"(]\"\n",
    "Output: false\n",
    "\n",
    "\n",
    "Constraints:\n",
    "    1 <= s.length <= 104\n",
    "    s consists of parentheses only '()[]{}'.\n"
   ]
  },
  {
   "cell_type": "markdown",
   "id": "b01640b0-3baa-4e84-a65e-bd1a58b63ab4",
   "metadata": {},
   "source": [
    "#### uses STACK Data Structure\n",
    "O(N)\n",
    "Time(N)"
   ]
  },
  {
   "cell_type": "code",
   "execution_count": 22,
   "id": "b25eaece-fede-40b6-b9af-5aeb3ea84186",
   "metadata": {},
   "outputs": [
    {
     "name": "stdout",
     "output_type": "stream",
     "text": [
      "False\n"
     ]
    }
   ],
   "source": [
    "def isValid(s: str) -> bool:\n",
    "    \n",
    "    closeToOpen={\n",
    "        \")\":\"(\" , \"]\":\"[\" , \"}\":\"{\" \n",
    "    }\n",
    "\n",
    "    # emtpy stack\n",
    "    stack=[]\n",
    "\n",
    "    for i in s:\n",
    "        # if close parenthese in 'i'\n",
    "        if i in closeToOpen:\n",
    "            # stack is not empty and last element is open par for i\n",
    "            if stack and stack[-1]==closeToOpen[i]:\n",
    "                # remove last element\n",
    "                stack.pop()\n",
    "            else:\n",
    "                # if stack is empty and close par need to append\n",
    "                return False\n",
    "        else:\n",
    "            # if open paren , then append\n",
    "            stack.append(i)\n",
    "        \n",
    "    # if stack is empty True , else False\n",
    "    return True if not stack else False\n",
    "\n",
    "print(isValid(\"([)]{}[]\"))\n"
   ]
  },
  {
   "cell_type": "markdown",
   "id": "d71c7013-5ef6-46e2-a363-1814a0ff1f01",
   "metadata": {},
   "source": [
    "# Remove Duplicates from Sorted Array ( 26 )\n",
    "\n",
    "Given an integer array nums sorted in non-decreasing order, remove the duplicates in-place such that each unique element appears only once. The relative order of the elements should be kept the same. Then return the number of unique elements in nums.\n",
    "\n",
    "Consider the number of unique elements of nums to be k, to get accepted, you need to do the following things:\n",
    "\n",
    "    Change the array nums such that the first k elements of nums contain the unique elements in the order they were present in nums initially. The remaining elements of nums are not important as well as the size of nums.\n",
    "    Return k.\n",
    "Example 1:\n",
    "\n",
    "Input: nums = [1,1,2]\n",
    "Output: 2, nums = [1,2,_]\n",
    "Explanation: Your function should return k = 2, with the first two elements of nums being 1 and 2 respectively.\n",
    "It does not matter what you leave beyond the returned k (hence they are underscores).\n",
    "\n",
    "Example 2:\n",
    "\n",
    "Input: nums = [0,0,1,1,1,2,2,3,3,4]\n",
    "Output: 5, nums = [0,1,2,3,4,_,_,_,_,_]\n",
    "Explanation: Your function should return k = 5, with the first five elements of nums being 0, 1, 2, 3, and 4 respectively.\n",
    "It does not matter what you leave beyond the returned k (hence they are underscores).\n",
    "\n"
   ]
  },
  {
   "cell_type": "markdown",
   "id": "1cd8812c-c358-4a24-8590-9989c9c57b0b",
   "metadata": {},
   "source": [
    "#### Method One :- uses extra space\n",
    "O(N)\n",
    "Time(N) -> due to stack..."
   ]
  },
  {
   "cell_type": "code",
   "execution_count": 16,
   "id": "229ffbaa-37bd-42e1-8694-86bfe942f258",
   "metadata": {},
   "outputs": [
    {
     "name": "stdout",
     "output_type": "stream",
     "text": [
      "2\n"
     ]
    }
   ],
   "source": [
    "nums=[1,1,2]\n",
    "\n",
    "new_nums=[]\n",
    "k=0\n",
    "for i in nums:\n",
    "    if i not in new_nums:\n",
    "        new_nums.append(i)\n",
    "        k+=1\n",
    "        \n",
    "print(k)\n",
    "    "
   ]
  },
  {
   "cell_type": "markdown",
   "id": "5f10340f-f1c4-42fe-b9c4-1fa026c7c26e",
   "metadata": {},
   "source": [
    "#### Method 2 ) Most efficient \n",
    "O(N)\n",
    "Time(1)"
   ]
  },
  {
   "cell_type": "code",
   "execution_count": 17,
   "id": "ea06a9fb-a7b6-4316-b484-03ca9cab33f3",
   "metadata": {},
   "outputs": [
    {
     "name": "stdout",
     "output_type": "stream",
     "text": [
      "total unique values are  2\n"
     ]
    }
   ],
   "source": [
    "def removeDuplicates(nums: List[int]) -> int:\n",
    "    # first [0] element is always unique\n",
    "    left=1\n",
    "\n",
    "    # right is to check for unique values\n",
    "    for right in range(1,len(nums)):\n",
    "        # if right is not equal to its previous value\n",
    "        if nums[ right ] != nums[ right-1 ]:\n",
    "            # then update left index with right index\n",
    "            nums[left]=nums[right]\n",
    "            # after update the left index\n",
    "            left+=1\n",
    "    # returning the total unique value counts\n",
    "    return left\n",
    "\n",
    "print(\"total unique values are \", removeDuplicates([1,1,2]))"
   ]
  },
  {
   "cell_type": "markdown",
   "id": "4b8e6ec9-bf46-4911-86a7-d08194891b06",
   "metadata": {},
   "source": [
    "# Remove Element ( 27 )\n",
    "Given an integer array nums and an integer val, remove all occurrences of val in nums in-place. <br>\n",
    "The order of the elements may be changed. Then return the number of elements in nums which are not equal to val.\n",
    "\n",
    "Example 1:\n",
    "\n",
    "Input: nums = [3,2,2,3], val = 3 <br>\n",
    "Output: 2, nums = [2,2,_,_] <br>\n",
    "Explanation: Your function should return k = 2, <br>\n",
    "with the first two elements of nums being 2.\n",
    "It does not matter what you leave beyond the returned k (hence they are underscores).\n",
    "\n",
    "Example 2:\n",
    "\n",
    "Input: nums = [0,1,2,2,3,0,4,2], val = 2 <br>\n",
    "Output: 5, nums = [0,1,4,0,3,_,_,_] <br>\n",
    "Explanation: Your function should return k = 5,<br> with the first five elements of nums containing 0, 0, 1, 3, and 4.\n",
    "Note that the five elements can be returned in any order.<br>\n",
    "It does not matter what you leave beyond the returned k (hence they are underscores).\n"
   ]
  },
  {
   "cell_type": "code",
   "execution_count": 5,
   "id": "6736b596-e18f-43a2-a3df-53dc805ff701",
   "metadata": {},
   "outputs": [
    {
     "name": "stdout",
     "output_type": "stream",
     "text": [
      "7\n"
     ]
    }
   ],
   "source": [
    "def removeElement(nums: List[int], val: int) -> int:\n",
    "\n",
    "    non_val=0\n",
    "\n",
    "    for i in range(len(nums)):\n",
    "        if nums[i] != val:\n",
    "            nums[non_val]=nums[i]\n",
    "            non_val+=1\n",
    "    return non_val\n",
    "print(removeElement([0,1,1,2,2,3,4,5,2,3],2))"
   ]
  },
  {
   "cell_type": "markdown",
   "id": "c4fb0cae-9e72-4047-9d27-8622e71c388d",
   "metadata": {},
   "source": [
    "# Find the Index of the First Occurrence in a String ( 28 )\n",
    "Input: haystack = \"sadbutsad\", needle = \"sad\"\n",
    "Output: 0\n",
    "Explanation: \"sad\" occurs at index 0 and 6.\n",
    "The first occurrence is at index 0, so we return 0.\n",
    "\n",
    "Example 2:\n",
    "\n",
    "Input: haystack = \"leetcode\", needle = \"leeto\"\n",
    "Output: -1\n",
    "Explanation: \"leeto\" did not occur in \"leetcode\", so we return -1.\n",
    "\n"
   ]
  },
  {
   "cell_type": "markdown",
   "id": "db9c17bd-cfe4-48f2-b938-0fa7cb08f6de",
   "metadata": {},
   "source": [
    "#### Method 1) \n",
    "O(N*M) -> WORST CASE N=M,\n",
    "O(N^2)\n",
    "Time(1)"
   ]
  },
  {
   "cell_type": "code",
   "execution_count": 21,
   "id": "647a85bb-3473-44fd-b930-ab3aea953169",
   "metadata": {},
   "outputs": [
    {
     "name": "stdout",
     "output_type": "stream",
     "text": [
      "7\n"
     ]
    }
   ],
   "source": [
    "def strStr(haystack: str, needle: str) -> int:\n",
    "\n",
    "    \"\"\"\n",
    "    ex - \"Gautam Dewasi\" , len =13 , actual -> 0-12\n",
    "          \"Dew\", len=3 , actual ->0-2\n",
    "          i => 0 to ( 13 + 1 -3 ) => 11 means 0th To 10th index\n",
    "          becuase , will comapre all needle char with haystack in one go ,\n",
    "          and then update the value of 'i'\n",
    "    \"\"\"\n",
    "    for i in range(len(haystack)+1-len(needle)):\n",
    "        for j in range(len(needle)):\n",
    "            if haystack[i+j] != needle[j]:\n",
    "                break\n",
    "            # if j access all char of needle, and don't break ,\n",
    "            # means we find the match string\n",
    "            if j==len(needle)-1:\n",
    "                return i\n",
    "\n",
    "    return -1\n",
    "\n",
    "print(strStr(\"Gautam Dewasi\",\"Dew\"))"
   ]
  },
  {
   "cell_type": "markdown",
   "id": "a5c7b4c0-9a8c-4492-b63f-fc990efc6f34",
   "metadata": {},
   "source": [
    "#### Method 1) \n",
    "O(N*M)\n",
    "Time(1)"
   ]
  },
  {
   "cell_type": "code",
   "execution_count": 24,
   "id": "dd1177ae-79bf-4a9b-88a1-9c4aaaefdc8c",
   "metadata": {},
   "outputs": [
    {
     "name": "stdout",
     "output_type": "stream",
     "text": [
      "7\n"
     ]
    }
   ],
   "source": [
    "def strStr(haystack: str, needle: str) -> int:\n",
    "\n",
    "    for i in range(len(haystack)+1-len(needle)):\n",
    "        # i to ( i+len(needle)-1\n",
    "        if haystack[i: i+ len(needle)] == needle:\n",
    "            return i\n",
    "    return -1\n",
    "\n",
    "print(strStr(\"Gautam Dewasi\",\"Dew\"))"
   ]
  },
  {
   "cell_type": "markdown",
   "id": "1d1e14a6-294a-4d9d-b44c-bb4fe5c8c66d",
   "metadata": {},
   "source": [
    "# Length of Last Word ( 58)\n",
    "\n",
    "Example 1:\n",
    "\n",
    "Input: s = \"Hello World\"\n",
    "Output: 5\n",
    "Explanation: The last word is \"World\" with length 5.\n",
    "\n",
    "Example 2:\n",
    "\n",
    "Input: s = \"   fly me   to   the moon  \"\n",
    "Output: 4\n",
    "Explanation: The last word is \"moon\" with length 4.\n",
    "\n",
    "Example 3:\n",
    "\n",
    "Input: s = \"luffy is still joyboy\"\n",
    "Output: 6\n",
    "Explanation: The last word is \"joyboy\" with length 6.\n",
    "\n",
    " "
   ]
  },
  {
   "cell_type": "code",
   "execution_count": null,
   "id": "408cbd4f-f1bc-4f16-bdaa-4cdbb0f514bb",
   "metadata": {},
   "outputs": [],
   "source": [
    "O(N)\n",
    "Time(1)"
   ]
  },
  {
   "cell_type": "code",
   "execution_count": 15,
   "id": "46a7ede9-27c0-4794-8969-ef253e05b616",
   "metadata": {},
   "outputs": [
    {
     "name": "stdout",
     "output_type": "stream",
     "text": [
      "5\n"
     ]
    }
   ],
   "source": [
    "string=\"hello world india  \"\n",
    "\n",
    "# i = last index ( will iterate in reverse order \n",
    "# length is for counting last word\n",
    "i,length = len(string)-1,0\n",
    "\n",
    "# to skip spaces indexes from end of string\n",
    "while string[i]==\" \":\n",
    "    i -=1\n",
    "\n",
    "# if not space , count the characters of the last word\n",
    "while i>=0 and string[i] != \" \":\n",
    "    length+=1\n",
    "    i -=1\n",
    "print(length)"
   ]
  },
  {
   "cell_type": "markdown",
   "id": "80b59e0a-1065-41eb-8b81-82a2435a0eb3",
   "metadata": {},
   "source": [
    "# Search Insert Position ( 35 )\n",
    "Given a sorted array of distinct integers and a target value, return the index if the target is found. If not, return the index where it would be if it were inserted in order.\n",
    "\n",
    "You must write an algorithm with O(log n) runtime complexity.\n",
    "\n",
    " \n",
    "Example 1:\n",
    "\n",
    "Input: nums = [1,3,5,6], target = 5\n",
    "Output: 2\n",
    "\n",
    "Example 2:\n",
    "\n",
    "Input: nums = [1,3,5,6], target = 2\n",
    "Output: 1\n",
    "\n",
    "Example 3:\n",
    "\n",
    "Input: nums = [1,3,5,6], target = 7\n",
    "Output: 4\n"
   ]
  },
  {
   "cell_type": "markdown",
   "id": "36650d0d-a3a6-4dab-bea1-4d2e40721bc8",
   "metadata": {},
   "source": [
    "O(N logN)\n",
    "Time(1)"
   ]
  },
  {
   "cell_type": "code",
   "execution_count": 21,
   "id": "5bf0b773-56e3-457d-9734-34788f72bd95",
   "metadata": {},
   "outputs": [
    {
     "name": "stdout",
     "output_type": "stream",
     "text": [
      "0\n"
     ]
    }
   ],
   "source": [
    "def searchInsert(nums: List[int], target: int) -> int:\n",
    "    # Uses Binary Search\n",
    "    start=0\n",
    "    end=len(nums)-1\n",
    "        \n",
    "    while start<=end:\n",
    "        mid = (start+end) // 2\n",
    "        if target == nums[mid]:\n",
    "            return mid\n",
    "        if target>nums[mid]:\n",
    "            start=mid+1\n",
    "        else:\n",
    "            end=mid-1\n",
    "    # Note:- at last element , if not equal , start=mid+1,\n",
    "    # and then loop stop\n",
    "    return start\n",
    "nums=[1,2,3,4,5,6]\n",
    "target=0\n",
    "print(searchInsert(nums,target))"
   ]
  },
  {
   "cell_type": "markdown",
   "id": "0c7692f9-0b05-488e-bd95-e5384b361d33",
   "metadata": {},
   "source": [
    "# Plus One 66\n",
    "\n",
    "Example 1:\n",
    "\n",
    "Input: digits = [1,2,3]\n",
    "Output: [1,2,4]\n",
    "Explanation: The array represents the integer 123.\n",
    "Incrementing by one gives 123 + 1 = 124.\n",
    "Thus, the result should be [1,2,4].\n",
    "\n",
    "Example 2:\n",
    "\n",
    "Input: digits = [4,3,2,1]\n",
    "Output: [4,3,2,2]\n",
    "Explanation: The array represents the integer 4321.\n",
    "Incrementing by one gives 4321 + 1 = 4322.\n",
    "Thus, the result should be [4,3,2,2].\n",
    "\n",
    "Example 3:\n",
    "\n",
    "Input: digits = [9]\n",
    "Output: [1,0]\n",
    "Explanation: The array represents the integer 9.\n",
    "Incrementing by one gives 9 + 1 = 10.\n",
    "Thus, the result should be [1,0].\n",
    "\n",
    " \n"
   ]
  },
  {
   "cell_type": "code",
   "execution_count": 18,
   "id": "1f738607-6db3-46ee-95b2-00f6108d478c",
   "metadata": {},
   "outputs": [
    {
     "name": "stdout",
     "output_type": "stream",
     "text": [
      "[1, 2, 4]\n"
     ]
    }
   ],
   "source": [
    "\"\"\"\n",
    "Intuition\n",
    "\n",
    "Need to use Revers Loop, and at the beginning , if 0th index == 10, then need to insert new element at the beginning og \"digits\" list.\n",
    "Approach\n",
    "\n",
    "Need to focused on three things :-\n",
    "\n",
    "    add each element by 1 if i>=0 , where \"i\" is the index of list\n",
    "    if digits[i] != 10 , then \"return digits\"\n",
    "    if i==0 and digits[i]==10,\n",
    "    then insert \"1\" at the beginning\n",
    "\n",
    "Complexity\n",
    "\n",
    "    Time complexity:\n",
    "    o(n)\n",
    "\n",
    "    Space complexity:\n",
    "    Time(1)\n",
    "\n",
    "\"\"\"\n",
    "\n",
    "\n",
    "digits = [1,2,3]\n",
    "add=1\n",
    "for i in reversed(range(len(digits))):\n",
    "    if i>=0:\n",
    "        digits[i]+=add\n",
    "    if digits[i]!=10:\n",
    "        add=0\n",
    "    elif i==0 and digits[i]==10:\n",
    "        digits[i]=0\n",
    "        digits.insert(0,1)\n",
    "    else:\n",
    "        digits[i]=0\n",
    "        \n",
    "print(digits)"
   ]
  },
  {
   "cell_type": "code",
   "execution_count": null,
   "id": "a7715696-a0be-40ef-a661-a4c976a8f6a2",
   "metadata": {},
   "outputs": [],
   "source": []
  }
 ],
 "metadata": {
  "kernelspec": {
   "display_name": "Python 3 (ipykernel)",
   "language": "python",
   "name": "python3"
  },
  "language_info": {
   "codemirror_mode": {
    "name": "ipython",
    "version": 3
   },
   "file_extension": ".py",
   "mimetype": "text/x-python",
   "name": "python",
   "nbconvert_exporter": "python",
   "pygments_lexer": "ipython3",
   "version": "3.11.2"
  }
 },
 "nbformat": 4,
 "nbformat_minor": 5
}
