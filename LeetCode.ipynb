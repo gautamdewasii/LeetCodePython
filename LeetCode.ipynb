{
 "cells": [
  {
   "cell_type": "code",
   "execution_count": 1,
   "id": "7af7a985-d390-47c9-905f-5818c87920c7",
   "metadata": {},
   "outputs": [],
   "source": [
    "from typing import List"
   ]
  },
  {
   "cell_type": "markdown",
   "id": "0b6bc38b-1f27-4841-8ee5-1962218b89ca",
   "metadata": {},
   "source": [
    "# TWO SUM \n",
    "\n",
    "Input: nums = [2,7,11,15], target = 9\n",
    "Output: [0,1]\n",
    "Explanation: Because nums[0] + nums[1] == 9, we return [0, 1].\n",
    "\n",
    "Example 2:\n",
    "\n",
    "Input: nums = [3,2,4], target = 6\n",
    "Output: [1,2]\n",
    "\n",
    "Example 3:\n",
    "\n",
    "Input: nums = [3,3], target = 6\n",
    "Output: [0,1]\n"
   ]
  },
  {
   "cell_type": "markdown",
   "id": "7d906730-3a56-4035-b395-f04acd38a7de",
   "metadata": {},
   "source": [
    "#### BRUTE FORCE\n",
    "###### O(N*N)\n",
    "###### SPACE COMPLEXITY O(1)"
   ]
  },
  {
   "cell_type": "code",
   "execution_count": 2,
   "id": "fa8513c9-f48c-4ecd-b86d-b881c5b38328",
   "metadata": {},
   "outputs": [
    {
     "name": "stdout",
     "output_type": "stream",
     "text": [
      "[0, 1]\n",
      "[1, 2]\n",
      "[0, 1]\n"
     ]
    }
   ],
   "source": [
    "\"\"\"\n",
    "List[int] defines the type of 'nums' object\n",
    "'target' is of int type\n",
    "return type is of List[int]  ( -> denoted return )\n",
    "\"\"\"\n",
    "def twoSum(nums: List[int], target: int) -> List[int]:\n",
    "    # range (0,5) means 0,1,2,3,4\n",
    "    for i in range(0,len(nums)-1):\n",
    "        for j in range(i+1,len(nums)):\n",
    "            if nums[i]+nums[j]==target:\n",
    "                return [i,j]\n",
    "    return [-1,-1]\n",
    "\n",
    "print( twoSum([2,7,11,15], 9))\n",
    "print(twoSum([3,2,4],6))\n",
    "print(twoSum([3,3],6))"
   ]
  },
  {
   "cell_type": "markdown",
   "id": "7b159bd7-a95f-4aba-b72c-fc8dd801ddc7",
   "metadata": {},
   "source": [
    "#### USING HashMap \n",
    "###### O(N)\n",
    "###### SPACE COMPLEXITY O(N)"
   ]
  },
  {
   "cell_type": "code",
   "execution_count": 3,
   "id": "e1091e0b-35d9-480a-aac0-a2eb3c522737",
   "metadata": {},
   "outputs": [
    {
     "name": "stdout",
     "output_type": "stream",
     "text": [
      "[0, 1]\n",
      "[1, 2]\n",
      "[0, 1]\n"
     ]
    }
   ],
   "source": [
    "def twoSum(nums: List[int], target: int) -> List[int]:\n",
    "\n",
    "    \"\"\"\n",
    "    previewMap ( hashmap) will contain the indexes and values of visited array elements.\n",
    "    if 'difference' ( target-current_value) exist in hashmap, it will return.\n",
    "    \"\"\"\n",
    "    previewMap = {}  # { indexes , values }\n",
    "\n",
    "    # enumerate() will return indexes and values of any array\n",
    "    for index,value in enumerate(nums):\n",
    "        \n",
    "        difference = target - value\n",
    "        # checking if difference exist in hashmap or not\n",
    "        if difference in previewMap:\n",
    "            return [previewMap[difference],index]\n",
    "        # if not , then added current element into hashmap\n",
    "        elif value not in previewMap:\n",
    "            previewMap[value]=index\n",
    "    return\n",
    "\n",
    "\n",
    "print(twoSum([2,7,11,15],9))\n",
    "print(twoSum([3,2,4],6))\n",
    "print(twoSum([3,3],6))"
   ]
  },
  {
   "cell_type": "markdown",
   "id": "70008bc0-c740-4d9c-a571-0fc855ace2b2",
   "metadata": {},
   "source": [
    "# Palindrome Number\n",
    "Given an integer x, return true if x is a\n",
    "palindrome\n",
    ", and false otherwise.\n",
    "\n",
    " \n",
    "\n",
    "Example 1:\n",
    "\n",
    "Input: x = 121\n",
    "Output: true\n",
    "Explanation: 121 reads as 121 from left to right and from right to left.\n",
    "\n",
    "Example 2:\n",
    "\n",
    "Input: x = -121\n",
    "Output: false\n",
    "Explanation: From left to right, it reads -121. From right to left, it becomes 121-. Therefore it is not a palindrome.\n",
    "\n",
    "Example 3:\n",
    "\n",
    "Input: x = 10\n",
    "Output: false\n",
    "Explanation: Reads 01 from right to left. Therefore it is not a palindrome.\n",
    "\n",
    " \n",
    "\n",
    "Constraints:\n",
    "\n",
    "    -231 <= x <= 231 - 1\n",
    "\n",
    " \n",
    "Follow up: Could you solve it without converting the integer to a string?"
   ]
  },
  {
   "cell_type": "markdown",
   "id": "3413abd1-8af2-466b-af23-9a53c0614620",
   "metadata": {},
   "source": [
    "#### By Creating new Variable and adding reverse of given number and then comapring it\n",
    "\n",
    "Time complexity - O(N)\n",
    "Space complexity - O(1)"
   ]
  },
  {
   "cell_type": "code",
   "execution_count": 4,
   "id": "6af7fb28-47e9-4f88-84f1-414ec38692d5",
   "metadata": {},
   "outputs": [
    {
     "name": "stdout",
     "output_type": "stream",
     "text": [
      "False\n"
     ]
    }
   ],
   "source": [
    "# isPalindrome() return type is bool\n",
    "def isPalindrome(x: int) -> bool:\n",
    "\n",
    "    # if any value is negative , it always not a palindrome number\n",
    "    if x<0:\n",
    "        return False\n",
    "    \n",
    "    # for creating reverse number from given 'x'\n",
    "    sum=0\n",
    "    \"\"\"\n",
    "    To get right most value of 'x' variable,\n",
    "    which then added to 'sum'\n",
    "    \"\"\"\n",
    "    right=0\n",
    "    temp=x\n",
    "    \n",
    "    while temp>0:\n",
    "        right=temp%10\n",
    "        sum=(sum*10)+right\n",
    "        temp=temp//10\n",
    "        \n",
    "    if sum==x:\n",
    "        return True\n",
    "    else:\n",
    "        return False\n",
    "\n",
    "print(isPalindrome(1211421))"
   ]
  },
  {
   "cell_type": "markdown",
   "id": "88e88666-c547-4495-8041-cf97a4032f6c",
   "metadata": {},
   "source": [
    "#### By Comparing Left most value with right most value\n",
    "O(N)\n",
    "Space(1)"
   ]
  },
  {
   "cell_type": "code",
   "execution_count": 5,
   "id": "8ec91be6-3453-4b43-8219-cefd2a9a2bf7",
   "metadata": {},
   "outputs": [
    {
     "name": "stdout",
     "output_type": "stream",
     "text": [
      "False\n"
     ]
    }
   ],
   "source": [
    "def isPalindrome(x: int) -> bool:\n",
    "\n",
    "    \n",
    "    if x<0:\n",
    "        return False\n",
    "\n",
    "    # divider will help to get left most value form 'x'\n",
    "    divider=1;\n",
    "\n",
    "    while x>= 10*divider:\n",
    "        divider*=10\n",
    "\n",
    "    while x:\n",
    "        right=x%10\n",
    "        left=x//divider\n",
    "\n",
    "        if left!=right:\n",
    "            return False\n",
    "\n",
    "        x=(x%divider)//10\n",
    "\n",
    "        # divided by 100, so that for every iteration we get the left most value\n",
    "        divider=divider//100\n",
    "    return True\n",
    "\n",
    "print(isPalindrome(12165121))"
   ]
  },
  {
   "cell_type": "markdown",
   "id": "4b0ef037-a2fe-4984-b20f-29185b3ddaf0",
   "metadata": {},
   "source": [
    "# Roman to Integer\n",
    "Roman numerals are represented by seven different symbols: I, V, X, L, C, D and M.\n",
    "\n",
    "Symbol       Value\n",
    "I             1\n",
    "V             5\n",
    "X             10\n",
    "L             50\n",
    "C             100\n",
    "D             500\n",
    "M             1000\n",
    "\n",
    "For example, 2 is written as II in Roman numeral, just two ones added together.<br>\n",
    "12 is written as XII, which is simply X + II. The number 27 is written as XXVII, which is XX + V + II.\n",
    " \n",
    "\n",
    "Example 1:\n",
    "\n",
    "Input: s = \"III\"\n",
    "Output: 3\n",
    "Explanation: III = 3.\n",
    "\n",
    "Example 2:\n",
    "\n",
    "Input: s = \"LVIII\"\n",
    "Output: 58\n",
    "Explanation: L = 50, V= 5, III = 3.\n",
    "\n",
    "Example 3:\n",
    "\n",
    "Input: s = \"MCMXCIV\"\n",
    "Output: 1994\n",
    "Explanation: M = 1000, CM = 900, XC = 90 and IV = 4.\n",
    "\n",
    " \n",
    "\n",
    "Constraints:\n",
    "\n",
    "    1 <= s.length <= 15\n",
    "    s contains only the characters ('I', 'V', 'X', 'L', 'C', 'D', 'M').\n",
    "    It is guaranteed that s is a valid roman numeral in the range [1, 3999].\n",
    "\n"
   ]
  },
  {
   "cell_type": "code",
   "execution_count": 6,
   "id": "01d012f0-6390-464f-b4cc-6b37934ed2c6",
   "metadata": {},
   "outputs": [
    {
     "name": "stdout",
     "output_type": "stream",
     "text": [
      "1994\n"
     ]
    }
   ],
   "source": [
    "def romanToInt(s: str) -> int:\n",
    "\n",
    "    # HashMap for defining the extual values of roman characters\n",
    "    roman_values={\n",
    "        \"I\":1, \"V\":5,\"X\":10,\"L\":50,\"C\":100,\"D\":500,\"M\":1000\n",
    "    }\n",
    "\n",
    "    # to sum all the values of roman characters of a string\n",
    "    sum=0\n",
    "\n",
    "    # from 0 to n-1\n",
    "    for i in range(len(s)):\n",
    "\n",
    "        \"\"\"\n",
    "        i+1 is so that last element should not be compared with any junk value\n",
    "        chechking if current roman char is smaller than the next one or not\n",
    "        \"\"\"\n",
    "        if i+1<len(s) and roman_values[s[i]] < roman_values[s[i+1]]:\n",
    "\n",
    "            # if true, substract that value from the 'sum'\n",
    "            sum -=roman_values[s[i]]\n",
    "        else:\n",
    "\n",
    "            # if not , add that value to the 'sum'\n",
    "            sum +=roman_values[s[i]]\n",
    "\n",
    "    return sum\n",
    "\n",
    "print(romanToInt(\"MCMXCIV\"))"
   ]
  },
  {
   "cell_type": "markdown",
   "id": "154f2bb6-0001-4f42-b0e4-c57e4d8ab707",
   "metadata": {},
   "source": [
    "# Longest Common Prefix\n"
   ]
  },
  {
   "cell_type": "markdown",
   "id": "cbaeef42-9f1f-41e0-a248-0aee42eacf3e",
   "metadata": {},
   "source": [
    "Write a function to find the longest common prefix string amongst an array of strings.\n",
    "\n",
    "If there is no common prefix, return an empty string \"\".\n",
    "\n",
    " \n",
    "\n",
    "Example 1:\n",
    "\n",
    "Input: strs = [\"flower\",\"flow\",\"flight\"]\n",
    "Output: \"fl\"\n",
    "\n",
    "Example 2:\n",
    "\n",
    "Input: strs = [\"dog\",\"racecar\",\"car\"]\n",
    "Output: \"\"\n",
    "Explanation: There is no common prefix among the input strings.\n"
   ]
  },
  {
   "cell_type": "code",
   "execution_count": 7,
   "id": "8fa12356-6958-40b1-a34a-32d25fb08546",
   "metadata": {},
   "outputs": [
    {
     "name": "stdout",
     "output_type": "stream",
     "text": [
      "\n",
      "2\n"
     ]
    }
   ],
   "source": [
    "def longestCommonPrefix(strs: List[str]) -> str:\n",
    "\n",
    "    comman=\"\"\n",
    "    if len(strs)==0 or len(strs)==1:\n",
    "        return comman\n",
    "\n",
    "    for i in range(len(strs[0])):\n",
    "        for s in strs[1:]:\n",
    "            if s[i]!=strs[0][i] or i==len(s):\n",
    "                return comman\n",
    "        comman+=strs[0][i]\n",
    "    return comman\n",
    "\n",
    "\n",
    "strs = [\"flower\",\"flow\",\"flight\"]\n",
    "strs1=[\"dog\",\"racecar\",\"car\"]\n",
    "print(longestCommonPrefix([\"a\"]))\n",
    "\n",
    "strs2=[\"1\",\"2\"]\n",
    "print(len(strs2))\n",
    "            "
   ]
  },
  {
   "cell_type": "markdown",
   "id": "a85fa16f-9714-438f-a1b0-575f6c328613",
   "metadata": {},
   "source": [
    "# Fizz Buzz ( 412 )\n",
    "\n",
    "\n",
    "Given an integer n, return a string array answer (1-indexed) where:\n",
    "\n",
    "    answer[i] == \"FizzBuzz\" if i is divisible by 3 and 5.\n",
    "    answer[i] == \"Fizz\" if i is divisible by 3.\n",
    "    answer[i] == \"Buzz\" if i is divisible by 5.\n",
    "    answer[i] == i (as a string) if none of the above conditions are true.\n",
    "\n",
    " \n",
    "\n",
    "Example 1:\n",
    "\n",
    "Input: n = 3\n",
    "Output: [\"1\",\"2\",\"Fizz\"]\n",
    "\n",
    "Example 2:\n",
    "\n",
    "Input: n = 5\n",
    "Output: [\"1\",\"2\",\"Fizz\",\"4\",\"Buzz\"]\n",
    "\n"
   ]
  },
  {
   "cell_type": "markdown",
   "id": "0fd6d40e-12a2-42b1-ad02-21f74adb39ec",
   "metadata": {},
   "source": [
    "#### Using % operator \n",
    "O(N) -> due to for loop\n",
    "Space(N) -> due to append() function"
   ]
  },
  {
   "cell_type": "code",
   "execution_count": 8,
   "id": "355aa789-2a67-405b-9f2c-f17fe69d7886",
   "metadata": {},
   "outputs": [
    {
     "name": "stdout",
     "output_type": "stream",
     "text": [
      "['1', '2', 'Fizz', '4', 'Buzz', 'Fizz', '7', '8', 'Fizz', 'Buzz', '11', 'Fizz', '13', '14', 'FizzBuzz']\n"
     ]
    }
   ],
   "source": [
    "def fizzBuzz(n: int) -> List[str]:\n",
    "\n",
    "    answer = []\n",
    "    for i in range(1,n+1):\n",
    "        if i%15==0:\n",
    "            answer.append(\"FizzBuzz\")\n",
    "        elif i%3==0:\n",
    "            answer.append(\"Fizz\")\n",
    "        elif i%5==0:\n",
    "            answer.append(\"Buzz\")\n",
    "        else:\n",
    "            answer.append(str(i))\n",
    "    return answer\n",
    "\n",
    "print(fizzBuzz(15))"
   ]
  },
  {
   "cell_type": "markdown",
   "id": "51273656-0e61-414d-b1bc-2724ff3f14cd",
   "metadata": {},
   "source": [
    "#### Without use of % operator\n",
    "O(N)\n",
    "Space(n)"
   ]
  },
  {
   "cell_type": "code",
   "execution_count": 9,
   "id": "b489bfbd-74cf-4389-8c91-79d729ff0da4",
   "metadata": {
    "scrolled": true
   },
   "outputs": [
    {
     "name": "stdout",
     "output_type": "stream",
     "text": [
      "['1', '2', 'Fizz', '4', 'Buzz', 'Fizz', '7', '8', 'Fizz', 'Buzz', '11', 'Fizz', '13', '14', 'FizzBuzz']\n"
     ]
    }
   ],
   "source": [
    "def fizzBuzz(n: int) -> List[str]:\n",
    "    f, b, fb = 'Fizz', 'Buzz', 'FizzBuzz'\n",
    "\n",
    "    # It will store upto nth elements in arr ( 1 to n )\n",
    "    answer = [str(x + 1) for x in range(n)]        \n",
    "        \n",
    "    # if n%3==0 add \"Fizz\" to list\n",
    "    for i in range(2, n, 3):\n",
    "        answer[i] = f\n",
    "\n",
    "    # if n%5==0 add \"Buzz\" to list\n",
    "    for i in range(4, n, 5):\n",
    "        answer[i] = b\n",
    "        \n",
    "    # if n%15 add \"FizzBuzz\" to list\n",
    "    for i in range(14, n, 15):\n",
    "        answer[i] = fb\n",
    "    \n",
    "    return answer\n",
    "\n",
    "\n",
    "print(fizzBuzz(15))"
   ]
  },
  {
   "cell_type": "markdown",
   "id": "73648e4c-e299-4f68-8da4-62e95d12b3e4",
   "metadata": {},
   "source": [
    "# Valid Parentheses ( 20 ) :-\n",
    "\n",
    "Given a string s containing just the characters '(', ')', '{', '}', '[' and ']', determine if the input string is valid.\n",
    "\n",
    "An input string is valid if:\n",
    "\n",
    "    Open brackets must be closed by the same type of brackets.\n",
    "    Open brackets must be closed in the correct order.\n",
    "    Every close bracket has a corresponding open bracket of the same type.\n",
    "\n",
    "Example 1:\n",
    "\n",
    "Input: s = \"()\"\n",
    "Output: true\n",
    "\n",
    "Example 2:\n",
    "\n",
    "Input: s = \"()[]{}\"\n",
    "Output: true\n",
    "\n",
    "Example 3:\n",
    "\n",
    "Input: s = \"(]\"\n",
    "Output: false\n",
    "\n",
    "\n",
    "Constraints:\n",
    "    1 <= s.length <= 104\n",
    "    s consists of parentheses only '()[]{}'.\n"
   ]
  },
  {
   "cell_type": "markdown",
   "id": "b01640b0-3baa-4e84-a65e-bd1a58b63ab4",
   "metadata": {},
   "source": [
    "#### uses STACK Data Structure\n",
    "O(N)\n",
    "Space(N)"
   ]
  },
  {
   "cell_type": "code",
   "execution_count": 10,
   "id": "b25eaece-fede-40b6-b9af-5aeb3ea84186",
   "metadata": {},
   "outputs": [
    {
     "name": "stdout",
     "output_type": "stream",
     "text": [
      "False\n"
     ]
    }
   ],
   "source": [
    "def isValid(s: str) -> bool:\n",
    "    \n",
    "    closeToOpen={\n",
    "        \")\":\"(\" , \"]\":\"[\" , \"}\":\"{\" \n",
    "    }\n",
    "\n",
    "    # emtpy stack\n",
    "    stack=[]\n",
    "\n",
    "    for i in s:\n",
    "        # if close parenthese in 'i'\n",
    "        if i in closeToOpen:\n",
    "            # stack is not empty and last element is open par for i\n",
    "            if stack and stack[-1]==closeToOpen[i]:\n",
    "                # remove last element\n",
    "                stack.pop()\n",
    "            else:\n",
    "                # if stack is empty and close par need to append\n",
    "                return False\n",
    "        else:\n",
    "            # if open paren , then append\n",
    "            stack.append(i)\n",
    "        \n",
    "    # if stack is empty True , else False\n",
    "    return True if not stack else False\n",
    "\n",
    "print(isValid(\"([)]{}[]\"))\n"
   ]
  },
  {
   "cell_type": "markdown",
   "id": "d71c7013-5ef6-46e2-a363-1814a0ff1f01",
   "metadata": {},
   "source": [
    "# Remove Duplicates from Sorted Array ( 26 )\n",
    "\n",
    "Given an integer array nums sorted in non-decreasing order, remove the duplicates in-place such that each unique element appears only once. The relative order of the elements should be kept the same. Then return the number of unique elements in nums.\n",
    "\n",
    "Consider the number of unique elements of nums to be k, to get accepted, you need to do the following things:\n",
    "\n",
    "    Change the array nums such that the first k elements of nums contain the unique elements in the order they were present in nums initially. The remaining elements of nums are not important as well as the size of nums.\n",
    "    Return k.\n",
    "Example 1:\n",
    "\n",
    "Input: nums = [1,1,2]\n",
    "Output: 2, nums = [1,2,_]\n",
    "Explanation: Your function should return k = 2, with the first two elements of nums being 1 and 2 respectively.\n",
    "It does not matter what you leave beyond the returned k (hence they are underscores).\n",
    "\n",
    "Example 2:\n",
    "\n",
    "Input: nums = [0,0,1,1,1,2,2,3,3,4]\n",
    "Output: 5, nums = [0,1,2,3,4,_,_,_,_,_]\n",
    "Explanation: Your function should return k = 5, with the first five elements of nums being 0, 1, 2, 3, and 4 respectively.\n",
    "It does not matter what you leave beyond the returned k (hence they are underscores).\n",
    "\n"
   ]
  },
  {
   "cell_type": "markdown",
   "id": "1cd8812c-c358-4a24-8590-9989c9c57b0b",
   "metadata": {},
   "source": [
    "#### Method One :- uses extra space\n",
    "O(N)\n",
    "Space(N) -> due to stack..."
   ]
  },
  {
   "cell_type": "code",
   "execution_count": 11,
   "id": "229ffbaa-37bd-42e1-8694-86bfe942f258",
   "metadata": {},
   "outputs": [
    {
     "name": "stdout",
     "output_type": "stream",
     "text": [
      "2\n"
     ]
    }
   ],
   "source": [
    "nums=[1,1,2]\n",
    "\n",
    "new_nums=[]\n",
    "k=0\n",
    "for i in nums:\n",
    "    if i not in new_nums:\n",
    "        new_nums.append(i)\n",
    "        k+=1\n",
    "        \n",
    "print(k)\n",
    "    "
   ]
  },
  {
   "cell_type": "markdown",
   "id": "5f10340f-f1c4-42fe-b9c4-1fa026c7c26e",
   "metadata": {},
   "source": [
    "#### Method 2 ) Most efficient \n",
    "O(N)\n",
    "Space(1)"
   ]
  },
  {
   "cell_type": "code",
   "execution_count": 12,
   "id": "ea06a9fb-a7b6-4316-b484-03ca9cab33f3",
   "metadata": {},
   "outputs": [
    {
     "name": "stdout",
     "output_type": "stream",
     "text": [
      "total unique values are  2\n"
     ]
    }
   ],
   "source": [
    "def removeDuplicates(nums: List[int]) -> int:\n",
    "    # first [0] element is always unique\n",
    "    left=1\n",
    "\n",
    "    # right is to check for unique values\n",
    "    for right in range(1,len(nums)):\n",
    "        # if right is not equal to its previous value\n",
    "        if nums[ right ] != nums[ right-1 ]:\n",
    "            # then update left index with right index\n",
    "            nums[left]=nums[right]\n",
    "            # after update the left index\n",
    "            left+=1\n",
    "    # returning the total unique value counts\n",
    "    return left\n",
    "\n",
    "print(\"total unique values are \", removeDuplicates([1,1,2]))"
   ]
  },
  {
   "cell_type": "markdown",
   "id": "4b8e6ec9-bf46-4911-86a7-d08194891b06",
   "metadata": {},
   "source": [
    "# Remove Element ( 27 )\n",
    "Given an integer array nums and an integer val, remove all occurrences of val in nums in-place. <br>\n",
    "The order of the elements may be changed. Then return the number of elements in nums which are not equal to val.\n",
    "\n",
    "Example 1:\n",
    "\n",
    "Input: nums = [3,2,2,3], val = 3 <br>\n",
    "Output: 2, nums = [2,2,_,_] <br>\n",
    "Explanation: Your function should return k = 2, <br>\n",
    "with the first two elements of nums being 2.\n",
    "It does not matter what you leave beyond the returned k (hence they are underscores).\n",
    "\n",
    "Example 2:\n",
    "\n",
    "Input: nums = [0,1,2,2,3,0,4,2], val = 2 <br>\n",
    "Output: 5, nums = [0,1,4,0,3,_,_,_] <br>\n",
    "Explanation: Your function should return k = 5,<br> with the first five elements of nums containing 0, 0, 1, 3, and 4.\n",
    "Note that the five elements can be returned in any order.<br>\n",
    "It does not matter what you leave beyond the returned k (hence they are underscores).\n"
   ]
  },
  {
   "cell_type": "code",
   "execution_count": 13,
   "id": "6736b596-e18f-43a2-a3df-53dc805ff701",
   "metadata": {},
   "outputs": [
    {
     "name": "stdout",
     "output_type": "stream",
     "text": [
      "7\n"
     ]
    }
   ],
   "source": [
    "def removeElement(nums: List[int], val: int) -> int:\n",
    "\n",
    "    non_val=0\n",
    "\n",
    "    for i in range(len(nums)):\n",
    "        if nums[i] != val:\n",
    "            nums[non_val]=nums[i]\n",
    "            non_val+=1\n",
    "    return non_val\n",
    "print(removeElement([0,1,1,2,2,3,4,5,2,3],2))"
   ]
  },
  {
   "cell_type": "markdown",
   "id": "c4fb0cae-9e72-4047-9d27-8622e71c388d",
   "metadata": {},
   "source": [
    "# Find the Index of the First Occurrence in a String ( 28 )\n",
    "Input: haystack = \"sadbutsad\", needle = \"sad\"\n",
    "Output: 0\n",
    "Explanation: \"sad\" occurs at index 0 and 6.\n",
    "The first occurrence is at index 0, so we return 0.\n",
    "\n",
    "Example 2:\n",
    "\n",
    "Input: haystack = \"leetcode\", needle = \"leeto\"\n",
    "Output: -1\n",
    "Explanation: \"leeto\" did not occur in \"leetcode\", so we return -1.\n",
    "\n"
   ]
  },
  {
   "cell_type": "markdown",
   "id": "db9c17bd-cfe4-48f2-b938-0fa7cb08f6de",
   "metadata": {},
   "source": [
    "#### Method 1) \n",
    "O(N*M) -> WORST CASE N=M,\n",
    "O(N^2)\n",
    "Space(1)"
   ]
  },
  {
   "cell_type": "code",
   "execution_count": 14,
   "id": "647a85bb-3473-44fd-b930-ab3aea953169",
   "metadata": {},
   "outputs": [
    {
     "name": "stdout",
     "output_type": "stream",
     "text": [
      "7\n"
     ]
    }
   ],
   "source": [
    "def strStr(haystack: str, needle: str) -> int:\n",
    "\n",
    "    \"\"\"\n",
    "    ex - \"Gautam Dewasi\" , len =13 , actual -> 0-12\n",
    "          \"Dew\", len=3 , actual ->0-2\n",
    "          i => 0 to ( 13 + 1 -3 ) => 11 means 0th To 10th index\n",
    "          becuase , will comapre all needle char with haystack in one go ,\n",
    "          and then update the value of 'i'\n",
    "    \"\"\"\n",
    "    for i in range(len(haystack)+1-len(needle)):\n",
    "        for j in range(len(needle)):\n",
    "            if haystack[i+j] != needle[j]:\n",
    "                break\n",
    "            # if j access all char of needle, and don't break ,\n",
    "            # means we find the match string\n",
    "            if j==len(needle)-1:\n",
    "                return i\n",
    "\n",
    "    return -1\n",
    "\n",
    "print(strStr(\"Gautam Dewasi\",\"Dew\"))"
   ]
  },
  {
   "cell_type": "markdown",
   "id": "a5c7b4c0-9a8c-4492-b63f-fc990efc6f34",
   "metadata": {},
   "source": [
    "#### Method 1) \n",
    "O(N*M)\n",
    "Space(1)"
   ]
  },
  {
   "cell_type": "code",
   "execution_count": 15,
   "id": "dd1177ae-79bf-4a9b-88a1-9c4aaaefdc8c",
   "metadata": {},
   "outputs": [
    {
     "name": "stdout",
     "output_type": "stream",
     "text": [
      "7\n"
     ]
    }
   ],
   "source": [
    "def strStr(haystack: str, needle: str) -> int:\n",
    "\n",
    "    for i in range(len(haystack)+1-len(needle)):\n",
    "        # i to ( i+len(needle)-1\n",
    "        if haystack[i: i+ len(needle)] == needle:\n",
    "            return i\n",
    "    return -1\n",
    "\n",
    "print(strStr(\"Gautam Dewasi\",\"Dew\"))"
   ]
  },
  {
   "cell_type": "markdown",
   "id": "1d1e14a6-294a-4d9d-b44c-bb4fe5c8c66d",
   "metadata": {},
   "source": [
    "# Length of Last Word ( 58)\n",
    "\n",
    "Example 1:\n",
    "\n",
    "Input: s = \"Hello World\"\n",
    "Output: 5\n",
    "Explanation: The last word is \"World\" with length 5.\n",
    "\n",
    "Example 2:\n",
    "\n",
    "Input: s = \"   fly me   to   the moon  \"\n",
    "Output: 4\n",
    "Explanation: The last word is \"moon\" with length 4.\n",
    "\n",
    "Example 3:\n",
    "\n",
    "Input: s = \"luffy is still joyboy\"\n",
    "Output: 6\n",
    "Explanation: The last word is \"joyboy\" with length 6.\n",
    "\n",
    " "
   ]
  },
  {
   "cell_type": "markdown",
   "id": "d5014a8c-f392-4f57-a759-b83c5696f8c4",
   "metadata": {},
   "source": [
    "O(N)\n",
    "Space(1)"
   ]
  },
  {
   "cell_type": "code",
   "execution_count": 16,
   "id": "46a7ede9-27c0-4794-8969-ef253e05b616",
   "metadata": {},
   "outputs": [
    {
     "name": "stdout",
     "output_type": "stream",
     "text": [
      "5\n"
     ]
    }
   ],
   "source": [
    "string=\"hello world india  \"\n",
    "\n",
    "# i = last index ( will iterate in reverse order \n",
    "# length is for counting last word\n",
    "i,length = len(string)-1,0\n",
    "\n",
    "# to skip spaces indexes from end of string\n",
    "while string[i]==\" \":\n",
    "    i -=1\n",
    "\n",
    "# if not space , count the characters of the last word\n",
    "while i>=0 and string[i] != \" \":\n",
    "    length+=1\n",
    "    i -=1\n",
    "print(length)"
   ]
  },
  {
   "cell_type": "markdown",
   "id": "80b59e0a-1065-41eb-8b81-82a2435a0eb3",
   "metadata": {},
   "source": [
    "# Search Insert Position ( 35 )\n",
    "Given a sorted array of distinct integers and a target value, return the index if the target is found. If not, return the index where it would be if it were inserted in order.\n",
    "\n",
    "You must write an algorithm with O(log n) runtime complexity.\n",
    "\n",
    " \n",
    "Example 1:\n",
    "\n",
    "Input: nums = [1,3,5,6], target = 5\n",
    "Output: 2\n",
    "\n",
    "Example 2:\n",
    "\n",
    "Input: nums = [1,3,5,6], target = 2\n",
    "Output: 1\n",
    "\n",
    "Example 3:\n",
    "\n",
    "Input: nums = [1,3,5,6], target = 7\n",
    "Output: 4\n"
   ]
  },
  {
   "cell_type": "markdown",
   "id": "36650d0d-a3a6-4dab-bea1-4d2e40721bc8",
   "metadata": {},
   "source": [
    "O(N logN)\n",
    "Space(1)"
   ]
  },
  {
   "cell_type": "code",
   "execution_count": 17,
   "id": "5bf0b773-56e3-457d-9734-34788f72bd95",
   "metadata": {},
   "outputs": [
    {
     "name": "stdout",
     "output_type": "stream",
     "text": [
      "0\n"
     ]
    }
   ],
   "source": [
    "def searchInsert(nums: List[int], target: int) -> int:\n",
    "    # Uses Binary Search\n",
    "    start=0\n",
    "    end=len(nums)-1\n",
    "        \n",
    "    while start<=end:\n",
    "        mid = (start+end) // 2\n",
    "        if target == nums[mid]:\n",
    "            return mid\n",
    "        if target>nums[mid]:\n",
    "            start=mid+1\n",
    "        else:\n",
    "            end=mid-1\n",
    "    # Note:- at last element , if not equal , start=mid+1,\n",
    "    # and then loop stop\n",
    "    return start\n",
    "nums=[1,2,3,4,5,6]\n",
    "target=0\n",
    "print(searchInsert(nums,target))"
   ]
  },
  {
   "cell_type": "markdown",
   "id": "0c7692f9-0b05-488e-bd95-e5384b361d33",
   "metadata": {},
   "source": [
    "# Plus One 66\n",
    "\n",
    "Example 1:\n",
    "\n",
    "Input: digits = [1,2,3]\n",
    "Output: [1,2,4]\n",
    "Explanation: The array represents the integer 123.\n",
    "Incrementing by one gives 123 + 1 = 124.\n",
    "Thus, the result should be [1,2,4].\n",
    "\n",
    "Example 2:\n",
    "\n",
    "Input: digits = [4,3,2,1]\n",
    "Output: [4,3,2,2]\n",
    "Explanation: The array represents the integer 4321.\n",
    "Incrementing by one gives 4321 + 1 = 4322.\n",
    "Thus, the result should be [4,3,2,2].\n",
    "\n",
    "Example 3:\n",
    "\n",
    "Input: digits = [9]\n",
    "Output: [1,0]\n",
    "Explanation: The array represents the integer 9.\n",
    "Incrementing by one gives 9 + 1 = 10.\n",
    "Thus, the result should be [1,0].\n",
    "\n",
    " \n"
   ]
  },
  {
   "cell_type": "code",
   "execution_count": 18,
   "id": "1f738607-6db3-46ee-95b2-00f6108d478c",
   "metadata": {},
   "outputs": [
    {
     "name": "stdout",
     "output_type": "stream",
     "text": [
      "[1, 2, 4]\n"
     ]
    }
   ],
   "source": [
    "\"\"\"\n",
    "Intuition\n",
    "\n",
    "Need to use Revers Loop, and at the beginning , if 0th index == 10, then need to insert new element at the beginning og \"digits\" list.\n",
    "Approach\n",
    "\n",
    "Need to focused on three things :-\n",
    "\n",
    "    add each element by 1 if i>=0 , where \"i\" is the index of list\n",
    "    if digits[i] != 10 , then \"return digits\"\n",
    "    if i==0 and digits[i]==10,\n",
    "    then insert \"1\" at the beginning\n",
    "\n",
    "Complexity\n",
    "\n",
    "    Time complexity:\n",
    "    o(n)\n",
    "\n",
    "    Space complexity:\n",
    "    Space(1)\n",
    "\n",
    "\"\"\"\n",
    "\n",
    "\n",
    "digits = [1,2,3]\n",
    "add=1\n",
    "for i in reversed(range(len(digits))):\n",
    "    if i>=0:\n",
    "        digits[i]+=add\n",
    "    if digits[i]!=10:\n",
    "        add=0\n",
    "    elif i==0 and digits[i]==10:\n",
    "        digits[i]=0\n",
    "        digits.insert(0,1)\n",
    "    else:\n",
    "        digits[i]=0\n",
    "        \n",
    "print(digits)"
   ]
  },
  {
   "cell_type": "markdown",
   "id": "0b126caf-748c-4aca-9aa7-9ec3dbb2f49b",
   "metadata": {},
   "source": [
    "# Add Binary ( 67 )\n",
    "\n",
    "Example 1:\n",
    "\n",
    "Input: a = \"11\", b = \"1\"\n",
    "Output: \"100\"\n",
    "\n",
    "Example 2:\n",
    "\n",
    "Input: a = \"1010\", b = \"1011\"\n",
    "Output: \"10101\"\n"
   ]
  },
  {
   "cell_type": "markdown",
   "id": "99345c38-5f7b-4288-a238-90573d5be504",
   "metadata": {},
   "source": [
    "O(n)\n",
    "Space(1)"
   ]
  },
  {
   "cell_type": "code",
   "execution_count": 19,
   "id": "c0b2a327-22e6-4450-9a6d-fe0948187f96",
   "metadata": {},
   "outputs": [
    {
     "name": "stdout",
     "output_type": "stream",
     "text": [
      "100\n"
     ]
    }
   ],
   "source": [
    "def addBinary(a: str, b: str) -> str:\n",
    "    return bin(int(a,2) + int(b,2)).replace(\"0b\",\"\")\n",
    "\n",
    "print(addBinary(\"11\",\"1\"))"
   ]
  },
  {
   "cell_type": "markdown",
   "id": "57bb91e1-3368-4fde-b07e-bf616d57a62d",
   "metadata": {},
   "source": [
    "# sqrt(x) 69\n",
    "\n",
    "Example 1:\n",
    "\n",
    "Input: x = 4\n",
    "Output: 2\n",
    "Explanation: The square root of 4 is 2, so we return 2.\n",
    "\n",
    "Example 2:\n",
    "\n",
    "Input: x = 8\n",
    "Output: 2\n",
    "Explanation: The square root of 8 is 2.82842..., and since we round it down to the nearest integer, 2 is returned.\n"
   ]
  },
  {
   "cell_type": "markdown",
   "id": "4fcc500a-a9a7-46c9-8a80-9b89e79bcf5c",
   "metadata": {},
   "source": [
    "O(sqroot(n))\n",
    "Space(1)"
   ]
  },
  {
   "cell_type": "code",
   "execution_count": 20,
   "id": "44b8acfb-f59f-47ff-acec-fab7921063c3",
   "metadata": {},
   "outputs": [
    {
     "name": "stdout",
     "output_type": "stream",
     "text": [
      "2\n"
     ]
    }
   ],
   "source": [
    "def mySqrt(x: int) -> int:\n",
    "    i=1\n",
    "\n",
    "    \n",
    "    # upto first 'i' value , whose square is greater than x\n",
    "    while i*i<=x:\n",
    "        i+=1\n",
    "    # if i*i is greater than 'x', means (i-1)*(i-1) is less then 'x'\n",
    "    return i-1\n",
    "\n",
    "print(mySqrt(8))"
   ]
  },
  {
   "cell_type": "markdown",
   "id": "87134bf2-67fb-40e4-b7bf-fb3c2f007e92",
   "metadata": {},
   "source": [
    "O(logN)\n",
    "Space(1)"
   ]
  },
  {
   "cell_type": "code",
   "execution_count": 21,
   "id": "d304b7e4-be1e-4727-8c86-ff6c085c008d",
   "metadata": {},
   "outputs": [
    {
     "name": "stdout",
     "output_type": "stream",
     "text": [
      "4\n"
     ]
    }
   ],
   "source": [
    "def mySqrt(x: int) -> int:\n",
    "\n",
    "    # binary search\n",
    "    start=1\n",
    "    end=x\n",
    "    while start<=end:\n",
    "        mid=(start+end)//2\n",
    "        if mid*mid==x:\n",
    "            return mid\n",
    "        elif mid*mid>x:\n",
    "            end=mid-1\n",
    "        else:\n",
    "            start=mid+1\n",
    "    return end\n",
    "print(mySqrt(16))\n",
    "            "
   ]
  },
  {
   "cell_type": "markdown",
   "id": "8ce44344-7ab7-4340-a5ca-3cf3aab22f99",
   "metadata": {},
   "source": [
    "# Climbing Stairs ( 70 )\n",
    "Example 1:\n",
    "\n",
    "Input: n = 2\n",
    "Output: 2\n",
    "Explanation: There are two ways to climb to the top.\n",
    "1. 1 step + 1 step\n",
    "2. 2 steps\n",
    "\n",
    "Example 2:\n",
    "\n",
    "Input: n = 3\n",
    "Output: 3\n",
    "Explanation: There are three ways to climb to the top.\n",
    "1. 1 step + 1 step + 1 step\n",
    "2. 1 step + 2 steps\n",
    "3. 2 steps + 1 step\n",
    "\n",
    "\n"
   ]
  },
  {
   "cell_type": "markdown",
   "id": "d0c068d1-0779-46c5-b883-f8903962b592",
   "metadata": {},
   "source": [
    "o(n-1)\n",
    "Space(1)\n",
    "Approach :- Depth first search ( bottom to up ) -> dynamic programming"
   ]
  },
  {
   "cell_type": "code",
   "execution_count": 22,
   "id": "a99796fc-8e92-407d-830f-6382b4fb3aab",
   "metadata": {},
   "outputs": [
    {
     "name": "stdout",
     "output_type": "stream",
     "text": [
      "8\n"
     ]
    }
   ],
   "source": [
    "def climbStairs(n: int) -> int:\n",
    "\n",
    "    first,second=1,1\n",
    "    # n-1 because we already computed last two counts(values ), for nth and n-1th stair\n",
    "    for i in range(n-1):\n",
    "        \n",
    "        first=first+second\n",
    "        # for updating second value as first value before updation\n",
    "        # without using temp\n",
    "        second=first-second\n",
    "    return first\n",
    "\n",
    "print(climbStairs(5))\n"
   ]
  },
  {
   "cell_type": "markdown",
   "id": "26438855-40de-4a44-8b8b-b4ca7ae737cc",
   "metadata": {},
   "source": [
    "# Single Number 136\n",
    "Example 1:\n",
    "\n",
    "Input: nums = [2,2,1]\n",
    "Output: 1\n",
    "\n",
    "Example 2:\n",
    "\n",
    "Input: nums = [4,1,2,1,2]\n",
    "Output: 4\n",
    "\n",
    "Example 3:\n",
    "\n",
    "Input: nums = [1]\n",
    "Output: 1\n"
   ]
  },
  {
   "cell_type": "markdown",
   "id": "0b2dae3c-2a88-42cd-bfe6-ea58c9a67150",
   "metadata": {},
   "source": [
    "XOR( ^ )\n",
    "0^0 = 0\n",
    "1^1 = 0\n",
    "0^1 = 1\n",
    "1^0 = 1\n",
    "\n",
    "O(N)\n",
    "Space(1)\n",
    "\n",
    "note :- it can also solved by putting these all values in hashmap, and pop out duplicate values"
   ]
  },
  {
   "cell_type": "code",
   "execution_count": 23,
   "id": "5bb7455d-ac7b-4aaa-9009-8553fd8d462b",
   "metadata": {},
   "outputs": [
    {
     "name": "stdout",
     "output_type": "stream",
     "text": [
      "3\n"
     ]
    }
   ],
   "source": [
    "def singleNumber(nums: List[int]) -> int:\n",
    "    #defalt 0, becasue  0 ^ n =n , where ^=XOR \n",
    "    result=0\n",
    "\n",
    "    for value in nums:\n",
    "        result = result ^ value\n",
    "    return result\n",
    "\n",
    "print(singleNumber([2,2,1,1,3,4,5,4,5]))"
   ]
  },
  {
   "cell_type": "markdown",
   "id": "7008764d-79d0-4732-8ce2-d733e8093766",
   "metadata": {},
   "source": [
    "another solution"
   ]
  },
  {
   "cell_type": "code",
   "execution_count": 24,
   "id": "e3565946-f8f1-48dd-b420-a9ac68eb93a9",
   "metadata": {},
   "outputs": [
    {
     "name": "stdout",
     "output_type": "stream",
     "text": [
      "1\n"
     ]
    }
   ],
   "source": [
    "nums=[2,2,1]\n",
    "for i in range(len(nums)):\n",
    "    \n",
    "    if nums.count(nums[i])==1:\n",
    "        print(nums[i])"
   ]
  },
  {
   "cell_type": "markdown",
   "id": "83c569bc-5124-4980-9223-7c6fc71e629d",
   "metadata": {},
   "source": [
    "# Majority Element 169\n",
    "\n",
    "Given an array nums of size n, return the majority element.\n",
    "\n",
    "The majority element is the element that appears more than ⌊n / 2⌋ times. You may assume that the majority element always exists in the array.\n",
    "\n",
    " \n",
    "\n",
    "Example 1:\n",
    "\n",
    "Input: nums = [3,2,3]\n",
    "Output: 3\n",
    "\n",
    "Example 2:\n",
    "\n",
    "Input: nums = [2,2,1,1,1,2,2]\n",
    "Output: 2\n"
   ]
  },
  {
   "cell_type": "code",
   "execution_count": 25,
   "id": "f2dfa02a-30d1-422f-9fa2-293a44a7e95d",
   "metadata": {},
   "outputs": [
    {
     "name": "stdout",
     "output_type": "stream",
     "text": [
      "2\n"
     ]
    }
   ],
   "source": [
    "def majorityElement(nums: List[int]) -> int:\n",
    "    # for storing frequency of occurence of elements \n",
    "    count={}\n",
    "    # res is for storing high freq element in it\n",
    "    # maxCount is current max freq of element\n",
    "    res, maxCount=0,0\n",
    "\n",
    "    for n in nums:\n",
    "        # if element exists in count, return its freq , otherwise return 0\n",
    "        count[n]=1+count.get(n,0)\n",
    "        # if current element freq is greater then maxCount then res = n\n",
    "        res = n if count[n]>maxCount else res\n",
    "        # updating maxCount \n",
    "        maxCount= max(count[n],maxCount)\n",
    "    return res\n",
    "print(majorityElement([2,2,1,1,1,2,2]))\n",
    "    "
   ]
  },
  {
   "cell_type": "markdown",
   "id": "44f22827-9f20-42ae-8f87-3c80c568e0f5",
   "metadata": {},
   "source": [
    "# Merge Sorted Array ( 88)\n",
    "\n",
    "Example 1:\n",
    "\n",
    "Input: nums1 = [1,2,3,0,0,0], m = 3, nums2 = [2,5,6], n = 3\n",
    "Output: [1,2,2,3,5,6]\n",
    "Explanation: The arrays we are merging are [1,2,3] and [2,5,6].\n",
    "The result of the merge is [1,2,2,3,5,6] with the underlined elements coming from nums1.\n",
    "\n",
    "Example 2:\n",
    "\n",
    "Input: nums1 = [1], m = 1, nums2 = [], n = 0\n",
    "Output: [1]\n",
    "Explanation: The arrays we are merging are [1] and [].\n",
    "The result of the merge is [1].\n"
   ]
  },
  {
   "cell_type": "markdown",
   "id": "0c9a6134-2a7e-41fe-8469-32a47d8586a6",
   "metadata": {},
   "source": [
    "O(N)\n",
    "Space(1)"
   ]
  },
  {
   "cell_type": "code",
   "execution_count": 26,
   "id": "f4dc3871-d738-4752-b408-65f8a2e4bdae",
   "metadata": {},
   "outputs": [
    {
     "name": "stdout",
     "output_type": "stream",
     "text": [
      "after merging   [1, 2, 2, 3, 5, 6]\n"
     ]
    }
   ],
   "source": [
    "def merge(nums1: List[int], m: int, nums2: List[int], n: int) -> None:\n",
    "    \n",
    "    # We are going to take 3 pointers , last , m , and n\n",
    "    # where 'last' used to insert currect value at the end ,\n",
    "    # 'm' and 'n' are used to comparing nums1 and nums2 elements\n",
    "    # Note:- we uses loop in reverse order\n",
    "    \n",
    "    last=m+n-1\n",
    "\n",
    "    \n",
    "    while m>0 and n>0:\n",
    "        if nums1[m-1] > nums2[n-1]:\n",
    "            nums1[last]=nums1[m-1]\n",
    "            m-=1\n",
    "        else:\n",
    "            nums1[last]=nums2[n-1]\n",
    "            n-=1\n",
    "        last-=1\n",
    "    # for condition , if nums1 all elements placed at its right position means m==0,\n",
    "    # then we know that rest of nums2 elements will placed at empty front elements \n",
    "    while n>0:\n",
    "        nums1[last]=nums2[n-1]\n",
    "        n-=1\n",
    "        last-=1\n",
    "\n",
    "    print(\"after merging  \",nums1)\n",
    "\n",
    "merge([1,2,3,0,0,0],3,[2,5,6],3)"
   ]
  },
  {
   "cell_type": "markdown",
   "id": "e6e43ecf-2973-4550-8933-ec9500ea7ec3",
   "metadata": {},
   "source": [
    "# Valid Palindrome 125\n",
    "\n",
    "Example 1:\n",
    "\n",
    "Input: s = \"A man, a plan, a canal: Panama\"\n",
    "Output: true\n",
    "Explanation: \"amanaplanacanalpanama\" is a palindrome.\n",
    "\n",
    "Example 2:\n",
    "\n",
    "Input: s = \"race a car\"\n",
    "Output: false\n",
    "Explanation: \"raceacar\" is not a palindrome.\n",
    "\n",
    "Example 3:\n",
    "\n",
    "Input: s = \" \"\n",
    "Output: true\n",
    "Explanation: s is an empty string \"\" after removing non-alphanumeric characters.\n",
    "Since an empty string reads the same forward and backward, it is a palindrome.\n"
   ]
  },
  {
   "cell_type": "code",
   "execution_count": 3,
   "id": "d46debaa-a30f-4d0a-a66c-9c7b96f2d8ed",
   "metadata": {},
   "outputs": [
    {
     "data": {
      "text/plain": [
       "True"
      ]
     },
     "execution_count": 3,
     "metadata": {},
     "output_type": "execute_result"
    }
   ],
   "source": [
    "def isPalindrome(s: str) -> bool:\n",
    "    newString=\"\"\n",
    "\n",
    "    for word in s:\n",
    "        # for skipping non numalpha values ex- , ' : etc\n",
    "        if word.isalnum():\n",
    "            # converting 's' string characters into lower case\n",
    "            newString+=word.lower()\n",
    "\n",
    "    # comparing reverse string with original one\n",
    "    return newString==newString[::-1]\n",
    "    \n",
    "\n",
    "isPalindrome(\"A man, a plan, a canal: Panama\")"
   ]
  },
  {
   "cell_type": "code",
   "execution_count": 5,
   "id": "d601b1b1-54bd-4b35-9181-3c0a78e65ae9",
   "metadata": {},
   "outputs": [
    {
     "data": {
      "text/plain": [
       "True"
      ]
     },
     "execution_count": 5,
     "metadata": {},
     "output_type": "execute_result"
    }
   ],
   "source": [
    "def isPalindrome(s: str) -> bool:\n",
    "\n",
    "    # taking two pointers at end and beginning\n",
    "    left=0\n",
    "    right=len(s)-1\n",
    "\n",
    "    # if left == right , stop\n",
    "    while left<right:\n",
    "        while left<right and not isAlphaNum(s[left]):\n",
    "            left+=1\n",
    "        while right>left and not isAlphaNum(s[right]):\n",
    "            right-=1\n",
    "        if s[left].lower() !=s[right].lower():\n",
    "            return False\n",
    "        left,right=left+1,right-1\n",
    "    return True\n",
    "    \n",
    "def isAlphaNum(string):\n",
    "    return ( ord('a') <= ord(string) <= ord('z') or\n",
    "            ord('A') <= ord(string) <= ord('Z') or\n",
    "            ord('0') <= ord(string) <= ord('9') )\n",
    "\n",
    "isPalindrome(\"A man, a plan, a canal: Panama\")"
   ]
  },
  {
   "cell_type": "markdown",
   "id": "7ab90af9-0645-4bd6-a1d0-e33c5c5947ab",
   "metadata": {},
   "source": [
    "# Move Zeroes (283)\n",
    "Example 1:\n",
    "\n",
    "Input: nums = [0,1,0,3,12]\n",
    "Output: [1,3,12,0,0]\n",
    "\n",
    "Example 2:\n",
    "\n",
    "Input: nums = [0]\n",
    "Output: [0]\n",
    "\n"
   ]
  },
  {
   "cell_type": "code",
   "execution_count": 7,
   "id": "8d8fca24-df20-4e4c-8a46-893c8f0a29d4",
   "metadata": {},
   "outputs": [
    {
     "name": "stdout",
     "output_type": "stream",
     "text": [
      "0   1\n",
      "1   0\n",
      "0   3\n",
      "3   0\n",
      "0   12\n",
      "12   0\n",
      "[1, 3, 12, 0, 0]\n"
     ]
    }
   ],
   "source": [
    "def moveZeroes(nums: List[int]) -> None:\n",
    "\n",
    "    left=0\n",
    "    for right in range(len(nums)):\n",
    "        if nums[right]:\n",
    "            print(nums[left],\" \" ,nums[right])\n",
    "            nums[left], nums[right]=nums[right],nums[left]\n",
    "            print(nums[left],\" \", nums[right])\n",
    "            left+=1\n",
    "    return nums\n",
    "print(moveZeroes([0,1,0,3,12]))"
   ]
  },
  {
   "cell_type": "markdown",
   "id": "f6aa7d5c-454d-4db2-9238-a90e3aa65379",
   "metadata": {},
   "source": [
    "# Merge Two Sorted Lists ( 21 ) :-\n",
    "You are given the heads of two sorted linked lists list1 and list2.\n",
    "\n",
    "Merge the two lists into one sorted list. The list should be made by splicing together the nodes of the first two lists.\n",
    "\n",
    "Return the head of the merged linked list.\n",
    "\n",
    "\n",
    "Input: list1 = [1,2,4], list2 = [1,3,4]\n",
    "Output: [1,1,2,3,4,4]\n",
    "\n",
    "Example 2:\n",
    "\n",
    "Input: list1 = [], list2 = []\n",
    "Output: []\n",
    "\n",
    "Example 3:\n",
    "\n",
    "Input: list1 = [], list2 = [0]\n",
    "Output: [0]\n",
    "\n",
    "\n"
   ]
  },
  {
   "cell_type": "code",
   "execution_count": null,
   "id": "6f5081c2-65ea-4918-a570-547b80dfd180",
   "metadata": {},
   "outputs": [],
   "source": [
    "def mergeTwoLists(self, list1: Optional[ListNode], list2: Optional[ListNode]) -> Optional[ListNode]:\n",
    "    dumme= ListNode()\n",
    "    tail=dummy\n",
    "\n",
    "    while list1 and list2:\n",
    "        if list1.val < list2.val:\n",
    "            tail.next=list1\n",
    "            list1=list1.next\n",
    "        else:\n",
    "            tail.next=list2\n",
    "            list2=list2.next\n",
    "        tail=tail.next\n",
    "    if list1:\n",
    "        tail.next=list1\n",
    "    elif list2:\n",
    "        tail.next=list2\n",
    "    return dummy.next"
   ]
  },
  {
   "cell_type": "markdown",
   "id": "3802d0a8-4c5f-4d87-a8de-d99630225c9b",
   "metadata": {},
   "source": [
    "#  Best Time to Buy and Sell Stock ( 121 ) :-\n",
    "\n",
    "Example 1:\n",
    "\n",
    "Input: prices = [7,1,5,3,6,4]\n",
    "Output: 5\n",
    "Explanation: Buy on day 2 (price = 1) and sell on day 5 (price = 6), profit = 6-1 = 5.\n",
    "Note that buying on day 2 and selling on day 1 is not allowed because you must buy before you sell.\n",
    "\n",
    "Example 2:\n",
    "\n",
    "Input: prices = [7,6,4,3,1]\n",
    "Output: 0\n",
    "Explanation: In this case, no transactions are done and the max profit = 0.\n"
   ]
  },
  {
   "cell_type": "code",
   "execution_count": 4,
   "id": "2b9be524-53cb-46bc-8b57-9f68417a0386",
   "metadata": {},
   "outputs": [
    {
     "name": "stdout",
     "output_type": "stream",
     "text": [
      "0\n"
     ]
    }
   ],
   "source": [
    "def maxProfit(prices: List[int]) -> int:\n",
    "\n",
    "    left=0 # buying stack value\n",
    "    right=1  # selling stack value\n",
    "    maxP=0 \n",
    "    \n",
    "    while right<len(prices):\n",
    "        # if profitable\n",
    "        if prices[left]<prices[right]:\n",
    "            profit=prices[right]-prices[left]\n",
    "            maxP=max(maxP,profit)\n",
    "        # if not profitable\n",
    "        else:\n",
    "            left=right\n",
    "        right+=1\n",
    "    return maxP\n",
    "\n",
    "print(maxProfit([7,6,4,3,1]))"
   ]
  },
  {
   "cell_type": "markdown",
   "id": "8241c470-3de0-40dd-96f0-b16fbf48a61d",
   "metadata": {},
   "source": [
    "# Remove Duplicates from Sorted List ( 83 )\n",
    "Example 1:\n",
    "Input: head = [1,1,2]\n",
    "Output: [1,2]\n",
    "\n",
    "Example 2:\n",
    "Input: head = [1,1,2,3,3]\n",
    "Output: [1,2,3]"
   ]
  },
  {
   "cell_type": "code",
   "execution_count": null,
   "id": "6054dd93-1215-4f6c-8f94-c2684fdb50c6",
   "metadata": {},
   "outputs": [],
   "source": [
    "def deleteDuplicates(self, head: Optional[ListNode]) -> Optional[ListNode]:\n",
    "    current=head\n",
    "\n",
    "    while current:\n",
    "        while current.next and current.next.val==current.val:\n",
    "            current.next=current.next.next\n",
    "        current=current.next\n",
    "    return head"
   ]
  },
  {
   "cell_type": "markdown",
   "id": "ea75f3f7-b47a-4cde-ac91-2b0b694a9450",
   "metadata": {},
   "source": [
    "# Concatenation of Array ( 1929 )\n",
    "\n",
    "Example 1:\n",
    "\n",
    "Input: nums = [1,2,1]\n",
    "Output: [1,2,1,1,2,1]\n",
    "Explanation: The array ans is formed as follows:\n",
    "- ans = [nums[0],nums[1],nums[2],nums[0],nums[1],nums[2]]\n",
    "- ans = [1,2,1,1,2,1]\n",
    "\n",
    "Example 2:\n",
    "\n",
    "Input: nums = [1,3,2,1]\n",
    "Output: [1,3,2,1,1,3,2,1]\n",
    "Explanation: The array ans is formed as follows:\n",
    "- ans = [nums[0],nums[1],nums[2],nums[3],nums[0],nums[1],nums[2],nums[3]]\n",
    "- ans = [1,3,2,1,1,3,2,1]\n"
   ]
  },
  {
   "cell_type": "code",
   "execution_count": 2,
   "id": "7c145a2c-0c57-4ac3-afd2-d2520a05495a",
   "metadata": {},
   "outputs": [
    {
     "name": "stdout",
     "output_type": "stream",
     "text": [
      "[1, 2, 1, 3, 1, 1, 2, 1, 3, 1]\n"
     ]
    }
   ],
   "source": [
    "def getConcatenation(nums: List[int]) -> List[int]:\n",
    "    ans=[]\n",
    "    for num in nums:\n",
    "        ans.append(num)\n",
    "    for num in nums:\n",
    "        ans.append(num)\n",
    "\n",
    "    return ans\n",
    "\n",
    "print(getConcatenation([1,2,1,3,1]))"
   ]
  },
  {
   "cell_type": "markdown",
   "id": "7c85a0ed-fcc9-40fb-8543-3571d24e7bfc",
   "metadata": {},
   "source": [
    "# Number of Good Pairs ( 1512) \n",
    "Given an array of integers nums, return the number of good pairs.\n",
    "\n",
    "A pair (i, j) is called good if nums[i] == nums[j] and i < j.\n",
    "\n",
    " \n",
    "\n",
    "Example 1:\n",
    "\n",
    "Input: nums = [1,2,3,1,1,3]\n",
    "Output: 4\n",
    "Explanation: There are 4 good pairs (0,3), (0,4), (3,4), (2,5) 0-indexed.\n",
    "\n",
    "Example 2:\n",
    "\n",
    "Input: nums = [1,1,1,1]\n",
    "Output: 6\n",
    "Explanation: Each pair in the array are good.\n",
    "\n",
    "Example 3:\n",
    "\n",
    "Input: nums = [1,2,3]\n",
    "Output: 0\n"
   ]
  },
  {
   "cell_type": "code",
   "execution_count": 12,
   "id": "9a1c3683-c8e9-4554-b385-2cebb831a601",
   "metadata": {},
   "outputs": [
    {
     "name": "stdout",
     "output_type": "stream",
     "text": [
      "0\n"
     ]
    }
   ],
   "source": [
    "def numIdenticalPairs(nums: List[int]) -> int:\n",
    "    count=0\n",
    "\n",
    "    for i in range(len(nums)):\n",
    "        for j in range(i+1,len(nums)):\n",
    "            if i!=j and nums[i]==nums[j]:\n",
    "                count+=1\n",
    "    return count\n",
    "print(numIdenticalPairs([1,2,3]))"
   ]
  },
  {
   "cell_type": "markdown",
   "id": "183a5811-fe26-486d-b672-aa7032983601",
   "metadata": {},
   "source": [
    "# final-value-of-variable-after-performing-operations ( 2011 ) :-\n",
    "Example 1:\n",
    "\n",
    "Input: operations = [\"--X\",\"X++\",\"X++\"]\n",
    "Output: 1\n",
    "Explanation: The operations are performed as follows:\n",
    "Initially, X = 0.\n",
    "--X: X is decremented by 1, X =  0 - 1 = -1.\n",
    "X++: X is incremented by 1, X = -1 + 1 =  0.\n",
    "X++: X is incremented by 1, X =  0 + 1 =  1.\n",
    "\n",
    "Example 2:\n",
    "\n",
    "Input: operations = [\"++X\",\"++X\",\"X++\"]\n",
    "Output: 3\n",
    "Explanation: The operations are performed as follows:\n",
    "Initially, X = 0.\n",
    "++X: X is incremented by 1, X = 0 + 1 = 1.\n",
    "++X: X is incremented by 1, X = 1 + 1 = 2.\n",
    "X++: X is incremented by 1, X = 2 + 1 = 3.\n",
    "\n",
    "Example 3:\n",
    "\n",
    "Input: operations = [\"X++\",\"++X\",\"--X\",\"X--\"]\n",
    "Output: 0\n",
    "Explanation: The operations are performed as follows:\n",
    "Initially, X = 0.\n",
    "X++: X is incremented by 1, X = 0 + 1 = 1.\n",
    "++X: X is incremented by 1, X = 1 + 1 = 2.\n",
    "--X: X is decremented by 1, X = 2 - 1 = 1.\n",
    "X--: X is decremented by 1, X = 1 - 1 = 0.\n"
   ]
  },
  {
   "cell_type": "code",
   "execution_count": 9,
   "id": "bb7f1906-eb3e-47f3-8cdc-bc96ffdfcf56",
   "metadata": {},
   "outputs": [
    {
     "name": "stdout",
     "output_type": "stream",
     "text": [
      "1\n"
     ]
    }
   ],
   "source": [
    "def finalValueAfterOperations(operations: List[str]) -> int:\n",
    "    X=0\n",
    "\n",
    "    for i in operations:\n",
    "        if i==\"++X\" or i==\"X++\":\n",
    "            X+=1\n",
    "        else:\n",
    "            X-=1\n",
    "    return X\n",
    "print(finalValueAfterOperations([\"--X\",\"X++\",\"X++\"]))\n",
    "    "
   ]
  },
  {
   "cell_type": "markdown",
   "id": "d45c9aac-703e-42b0-a9b2-8120eafc99c8",
   "metadata": {},
   "source": [
    "# 1470. Shuffle the Array\n",
    "Given the array nums consisting of 2n elements in the form [x1,x2,...,xn,y1,y2,...,yn].\n",
    "\n",
    "Return the array in the form [x1,y1,x2,y2,...,xn,yn].\n",
    "\n",
    " \n",
    "\n",
    "Example 1:\n",
    "\n",
    "Input: nums = [2,5,1,3,4,7], n = 3\n",
    "Output: [2,3,5,4,1,7] \n",
    "Explanation: Since x1=2, x2=5, x3=1, y1=3, y2=4, y3=7 then the answer is [2,3,5,4,1,7].\n",
    "\n",
    "Example 2:\n",
    "\n",
    "Input: nums = [1,2,3,4,4,3,2,1], n = 4\n",
    "Output: [1,4,2,3,3,2,4,1]\n",
    "\n",
    "Example 3:\n",
    "\n",
    "Input: nums = [1,1,2,2], n = 2\n",
    "Output: [1,2,1,2]\n"
   ]
  },
  {
   "cell_type": "code",
   "execution_count": 5,
   "id": "db23d2e2-6738-469a-8b08-97c8555a3692",
   "metadata": {},
   "outputs": [
    {
     "name": "stdout",
     "output_type": "stream",
     "text": [
      "[1, 4, 2, 3, 3, 2, 4, 1]\n"
     ]
    }
   ],
   "source": [
    "def shuffle(nums: List[int], n: int) -> List[int]:\n",
    "\n",
    "    new_nums=[]\n",
    "    i,j=0,n\n",
    "\n",
    "    while i<n and j<(len(nums)):\n",
    "        new_nums.append(nums[i])\n",
    "        new_nums.append(nums[j])\n",
    "        i+=1\n",
    "        j+=1\n",
    "    return new_nums\n",
    "\n",
    "print(shuffle([1,2,3,4,4,3,2,1],4))"
   ]
  },
  {
   "cell_type": "markdown",
   "id": "2c099530-85b3-4471-9546-90443430e522",
   "metadata": {},
   "source": [
    "# 2798. Number of Employees Who Met the Target\n",
    "Example 1:\n",
    "\n",
    "Input: hours = [0,1,2,3,4], target = 2\n",
    "Output: 3\n",
    "Explanation: The company wants each employee to work for at least 2 hours.\n",
    "- Employee 0 worked for 0 hours and didn't meet the target.\n",
    "- Employee 1 worked for 1 hours and didn't meet the target.\n",
    "- Employee 2 worked for 2 hours and met the target.\n",
    "- Employee 3 worked for 3 hours and met the target.\n",
    "- Employee 4 worked for 4 hours and met the target.\n",
    "There are 3 employees who met the target.\n",
    "\n",
    "Example 2:\n",
    "\n",
    "Input: hours = [5,1,4,2,2], target = 6\n",
    "Output: 0\n",
    "Explanation: The company wants each employee to work for at least 6 hours.\n",
    "There are 0 employees who met the target.\n"
   ]
  },
  {
   "cell_type": "code",
   "execution_count": 2,
   "id": "3279e581-0abe-4a79-94d4-16a2f2b784a4",
   "metadata": {},
   "outputs": [
    {
     "name": "stdout",
     "output_type": "stream",
     "text": [
      "3\n"
     ]
    }
   ],
   "source": [
    "def numberOfEmployeesWhoMetTarget(hours: List[int], target: int) -> int:\n",
    "    count=0\n",
    "\n",
    "    for i in hours:\n",
    "        if i>=target:\n",
    "            count+=1\n",
    "        \n",
    "    return count\n",
    "print(numberOfEmployeesWhoMetTarget([0,1,2,3,4],2))"
   ]
  },
  {
   "cell_type": "markdown",
   "id": "a61772d0-400a-451c-a533-722530e1e92a",
   "metadata": {},
   "source": [
    "# 1672. Richest Customer Wealth\n",
    "Example 1:\n",
    "\n",
    "Input: accounts = [[1,2,3],[3,2,1]]\n",
    "Output: 6\n",
    "Explanation:\n",
    "1st customer has wealth = 1 + 2 + 3 = 6\n",
    "2nd customer has wealth = 3 + 2 + 1 = 6\n",
    "Both customers are considered the richest with a wealth of 6 each, so return 6.\n",
    "\n",
    "Example 2:\n",
    "\n",
    "Input: accounts = [[1,5],[7,3],[3,5]]\n",
    "Output: 10\n",
    "Explanation: \n",
    "1st customer has wealth = 6\n",
    "2nd customer has wealth = 10 \n",
    "3rd customer has wealth = 8\n",
    "The 2nd customer is the richest with a wealth of 10.\n",
    "\n",
    "Example 3:\n",
    "\n",
    "Input: accounts = [[2,8,7],[7,1,3],[1,9,5]]\n",
    "Output: 17\n",
    "\n",
    " "
   ]
  },
  {
   "cell_type": "code",
   "execution_count": 7,
   "id": "830b6b7a-afb2-470d-a2ca-c73872fb47e0",
   "metadata": {},
   "outputs": [
    {
     "name": "stdout",
     "output_type": "stream",
     "text": [
      "10\n"
     ]
    }
   ],
   "source": [
    "def maximumWealth(accounts: List[List[int]]) -> int:\n",
    "    max=0\n",
    "\n",
    "    for i in accounts:\n",
    "        count=0\n",
    "        for j in i:\n",
    "            count+=j\n",
    "        if count>max:\n",
    "            max=count\n",
    "    return max\n",
    "\n",
    "print(maximumWealth([[1,5],[7,3],[3,5]]))"
   ]
  },
  {
   "cell_type": "markdown",
   "id": "654fcbd8-6069-4c69-9831-1d1786ca7b4b",
   "metadata": {},
   "source": [
    "# 1431. Kids With the Greatest Number of Candies\n",
    "Example 1:\n",
    "\n",
    "Input: candies = [2,3,5,1,3], extraCandies = 3\n",
    "Output: [true,true,true,false,true] \n",
    "Explanation: If you give all extraCandies to:\n",
    "- Kid 1, they will have 2 + 3 = 5 candies, which is the greatest among the kids.\n",
    "- Kid 2, they will have 3 + 3 = 6 candies, which is the greatest among the kids.\n",
    "- Kid 3, they will have 5 + 3 = 8 candies, which is the greatest among the kids.\n",
    "- Kid 4, they will have 1 + 3 = 4 candies, which is not the greatest among the kids.\n",
    "- Kid 5, they will have 3 + 3 = 6 candies, which is the greatest among the kids.\n",
    "\n",
    "Example 2:\n",
    "\n",
    "Input: candies = [4,2,1,1,2], extraCandies = 1\n",
    "Output: [true,false,false,false,false] \n",
    "Explanation: There is only 1 extra candy.\n",
    "Kid 1 will always have the greatest number of candies, even if a different kid is given the extra candy.\n",
    "\n",
    "Example 3:\n",
    "\n",
    "Input: candies = [12,1,12], extraCandies = 10\n",
    "Output: [true,false,true]\n"
   ]
  },
  {
   "cell_type": "code",
   "execution_count": 3,
   "id": "47fa367a-9651-48f2-9555-9b42377825b9",
   "metadata": {},
   "outputs": [
    {
     "name": "stdout",
     "output_type": "stream",
     "text": [
      "[True, True, True, False, True]\n"
     ]
    }
   ],
   "source": [
    "def kidsWithCandies(candies: List[int], extraCandies: int) -> List[bool]:\n",
    "    n=len(candies)\n",
    "    max_candie=max(candies)\n",
    "    result=[]\n",
    "    for i in candies:\n",
    "        if i+extraCandies>=max_candie:\n",
    "            result.append(True)\n",
    "        else:\n",
    "            result.append(False)\n",
    "    return result\n",
    "print(kidsWithCandies([2,3,5,1,3],3))"
   ]
  },
  {
   "cell_type": "code",
   "execution_count": null,
   "id": "39a8231f-292c-4e3c-9384-45a58e1d9d75",
   "metadata": {},
   "outputs": [],
   "source": []
  }
 ],
 "metadata": {
  "kernelspec": {
   "display_name": "Python 3 (ipykernel)",
   "language": "python",
   "name": "python3"
  },
  "language_info": {
   "codemirror_mode": {
    "name": "ipython",
    "version": 3
   },
   "file_extension": ".py",
   "mimetype": "text/x-python",
   "name": "python",
   "nbconvert_exporter": "python",
   "pygments_lexer": "ipython3",
   "version": "3.11.2"
  }
 },
 "nbformat": 4,
 "nbformat_minor": 5
}
