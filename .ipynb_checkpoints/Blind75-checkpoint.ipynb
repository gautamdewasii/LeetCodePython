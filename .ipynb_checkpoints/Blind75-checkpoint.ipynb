{
 "cells": [
  {
   "cell_type": "code",
   "execution_count": 1,
   "id": "7e470a7d-6db9-436d-8751-79abf7e04648",
   "metadata": {},
   "outputs": [],
   "source": [
    "from typing import List"
   ]
  },
  {
   "cell_type": "markdown",
   "id": "3c23ab43-08a1-4a86-8779-709ccfadc11b",
   "metadata": {},
   "source": [
    "# Linked List"
   ]
  },
  {
   "cell_type": "markdown",
   "id": "3baca45f-cfe5-4c6b-a011-1971479f64e4",
   "metadata": {},
   "source": [
    "## Reverse a Linked List"
   ]
  },
  {
   "cell_type": "code",
   "execution_count": 1,
   "id": "85fde077-6dfd-4451-8817-af00a0b6023f",
   "metadata": {},
   "outputs": [
    {
     "name": "stdout",
     "output_type": "stream",
     "text": [
      "20\n",
      "30\n",
      "40\n",
      "50\n",
      "50\n",
      "40\n",
      "30\n",
      "20\n"
     ]
    }
   ],
   "source": [
    "class Link:\n",
    "    \n",
    "    def __init__(self):\n",
    "        self.head=None\n",
    "    def insertAtBeg(self , data): \n",
    "        new_Node=Node(data)\n",
    "        new_Node.next=self.head\n",
    "        self.head=new_Node\n",
    "        \n",
    "    def display(self):\n",
    "        temp=self.head\n",
    "        if self.head is None:\n",
    "            print(\"LinkedLIst is Empty...\")\n",
    "        while temp:\n",
    "            print(temp.data)\n",
    "            temp=temp.next\n",
    "\n",
    "    # reverse a linked list using TWO POINTERS \n",
    "    # TIME 0(N) AND SPACE -> O(1)\n",
    "    # Using iteration method\n",
    "    def reverseList(self):\n",
    "        prev,current=None,self.head\n",
    "        while current:\n",
    "            next=current.next\n",
    "            current.next=prev\n",
    "            prev=current\n",
    "            current=next\n",
    "        while prev:\n",
    "            print(prev.data)\n",
    "            prev=prev.next        \n",
    "class Node:\n",
    "    def __init__(self,data):\n",
    "        self.data=data\n",
    "        self.next=None\n",
    "\n",
    "h=Link()\n",
    "n1=Node(20)\n",
    "h.head=n1\n",
    "n2=Node(30)\n",
    "n1.next=n2\n",
    "n3=Node(40)\n",
    "n2.next=n3\n",
    "n4=Node(50)\n",
    "n3.next=n4\n",
    "h.display()\n",
    "h.reverseList()"
   ]
  },
  {
   "cell_type": "code",
   "execution_count": 2,
   "id": "c0dc4fb0-f4e5-4238-9606-2e120c755500",
   "metadata": {},
   "outputs": [],
   "source": [
    "# #### Using recursion :-\n",
    "# #### time and space :- o(n)\n",
    "# def reverseList(self, head: Optional[ListNode]) -> Optional[ListNode]:\n",
    "        \n",
    "#         if not head:\n",
    "#             return None\n",
    "        \n",
    "#         newHead=head\n",
    "#         if head.next:\n",
    "#             newHead=self.reverseList(head.next)\n",
    "#             head.next.next=head\n",
    "#         head.next=None\n",
    "#         return newHead"
   ]
  },
  {
   "cell_type": "markdown",
   "id": "2faac78c-0fa0-475f-a8b9-02a55a589ad6",
   "metadata": {},
   "source": [
    "## 141. Linked List Cycle"
   ]
  },
  {
   "cell_type": "code",
   "execution_count": 3,
   "id": "89ee3fee-35cc-4ced-b891-5cddb29b65d4",
   "metadata": {},
   "outputs": [],
   "source": [
    "# # using dictionary\n",
    "# space and time -> o(n)\n",
    "# def hasCycle(self, head: Optional[ListNode]) -> bool:\n",
    "\n",
    "#         dic ={}\n",
    "#         temp=head\n",
    "#         while temp:\n",
    "#             if temp in dic:\n",
    "#                 return True\n",
    "#             else:\n",
    "#                 dic[head]=True\n",
    "#             temp=temp.next\n",
    "#         return False"
   ]
  },
  {
   "cell_type": "code",
   "execution_count": 4,
   "id": "ad40a8ec-d1d2-42ad-88ea-7b1b2843301f",
   "metadata": {},
   "outputs": [],
   "source": [
    "# # using list\n",
    "# space and time -> o(n)\n",
    "# def hasCycle(self, head: Optional[ListNode]) -> bool:\n",
    "\n",
    "#         address=[]\n",
    "#         temp=head\n",
    "#         while temp:\n",
    "#             address.append(temp)\n",
    "#             temp=temp.next\n",
    "#             if temp in address:\n",
    "#                 return True\n",
    "#         return False"
   ]
  },
  {
   "cell_type": "code",
   "execution_count": 5,
   "id": "526d6e95-f82b-4943-9a72-34154ee66b26",
   "metadata": {},
   "outputs": [],
   "source": [
    "# # using Floyd's Tortoise and Hare ( fast and slow pointer )\n",
    "# space and time -> o(1) and o(n)\n",
    "# def hasCycle(self, head: Optional[ListNode]) -> bool:\n",
    "\n",
    "#         slow,fast=head,head\n",
    "\n",
    "#         while fast and fast.next:\n",
    "#             slow=slow.next\n",
    "#             fast=fast.next.next\n",
    "#             if slow==fast:\n",
    "#                 return True\n",
    "#         return False"
   ]
  },
  {
   "cell_type": "markdown",
   "id": "d3bd9c92-7654-4bb3-ad18-7fd539485afc",
   "metadata": {},
   "source": [
    "## 21. Merge Two Sorted Lists"
   ]
  },
  {
   "cell_type": "code",
   "execution_count": 6,
   "id": "14611599-e257-408c-ba82-9ce62f96a531",
   "metadata": {},
   "outputs": [],
   "source": [
    "# TIME AND SPACE COMPLEXITY :- O(N)\n",
    "\n",
    "# def mergeTwoLists(list1: Optional[ListNode], list2: Optional[ListNode]) -> Optional[ListNode]:\n",
    "\n",
    "#     start=ListNode()\n",
    "#     temp=start\n",
    "\n",
    "      # if list1 is None:\n",
    "      #       return list2\n",
    "      # if list2 is None:\n",
    "      #       return list1\n",
    "#     while list1 and list2:\n",
    "#         if list1.val<list2.val:\n",
    "#             temp.next=list1\n",
    "#             list1=list1.next\n",
    "#         else:\n",
    "#             temp.next=list2\n",
    "#             list2=list2.next\n",
    "#         temp=temp.next\n",
    "#     if list1:\n",
    "#         temp.next=list1\n",
    "#     elif list2:\n",
    "#         temp.next=list2\n",
    "#     return start.next"
   ]
  },
  {
   "cell_type": "markdown",
   "id": "37cd5725-bae3-43fb-bf34-98410e0e21c9",
   "metadata": {},
   "source": [
    "## 23. Merge k Sorted Lists\n"
   ]
  },
  {
   "cell_type": "code",
   "execution_count": 7,
   "id": "c9cb8ca6-2a51-4680-9342-d2fa2ce52fb5",
   "metadata": {},
   "outputs": [],
   "source": [
    "# TIME COMPLEXITY :- O(N.LOG K )\n",
    "# SPACE COMPLEXITY :- O(N)\n",
    "\n",
    "# def mergeKLists(lists: List[Optional[ListNode]]) -> Optional[ListNode]:\n",
    "\n",
    "#     if not lists or len(lists) == 0:\n",
    "#         return None\n",
    "\n",
    "#     while len(lists)>1:\n",
    "#         mergedList=[]\n",
    "\n",
    "#         for i in range(0,len(lists),2):\n",
    "#             l1=lists[i]\n",
    "#             l2=lists[i+1] if (i+1)<len(lists) else None\n",
    "#             mergedList.append(self.mergeTwoLists(l1,l2))\n",
    "#         lists=mergedList\n",
    "#     return lists[0]\n",
    "# def mergeTwoLists(self,l1,l2):\n",
    "#     start=ListNode()\n",
    "#     temp=start\n",
    "\n",
    "#     while l1 and l2:\n",
    "#         if l1.val<l2.val:\n",
    "#             temp.next=l1\n",
    "#             l1=l1.next\n",
    "#         else:\n",
    "#             temp.next=l2\n",
    "#             l2=l2.next\n",
    "#         temp=temp.next\n",
    "#     if l1:\n",
    "#         temp.next=l1\n",
    "#     elif l2:\n",
    "#         temp.next=l2\n",
    "#     return start.next\n",
    "    "
   ]
  },
  {
   "cell_type": "markdown",
   "id": "b2d8c58f-1f2d-4d90-9031-7530ec85c00d",
   "metadata": {},
   "source": [
    "## 19. Remove Nth Node From End of List\n"
   ]
  },
  {
   "cell_type": "markdown",
   "id": "25702156-cbe9-4c4d-92c2-5fd09f49f37c",
   "metadata": {},
   "source": [
    "time complexity :- o(n) "
   ]
  },
  {
   "cell_type": "code",
   "execution_count": 8,
   "id": "4d6ff16f-cd7f-40a0-8147-d9df7f28ab41",
   "metadata": {},
   "outputs": [],
   "source": [
    "# def removeNthFromEnd(self, head: Optional[ListNode], n: int) -> Optional[ListNode]:\n",
    "#         dummy=ListNode(0,head)\n",
    "#         left=dummy\n",
    "#         right=head\n",
    "\n",
    "#         # for placing right pointer at nth place from head\n",
    "#         while n>0 and right:\n",
    "#             right=right.next\n",
    "#             n-=1\n",
    "#         while right:\n",
    "#             left=left.next\n",
    "#             right=right.next\n",
    "#         left.next=left.next.next\n",
    "#         return dummy.next"
   ]
  },
  {
   "cell_type": "markdown",
   "id": "63d2f0a5-d8a8-4db3-bde5-7bb4260ea486",
   "metadata": {},
   "source": [
    "## 143. Reorder List\n"
   ]
  },
  {
   "cell_type": "markdown",
   "id": "b2e87cb9-158c-46ca-bad1-f7fe346a32bb",
   "metadata": {},
   "source": [
    "time complexity : - o(n)"
   ]
  },
  {
   "cell_type": "code",
   "execution_count": 9,
   "id": "28b3fa96-fe42-4e4f-9a8a-e4b83e71df9d",
   "metadata": {},
   "outputs": [],
   "source": [
    "# def reorderList(self, head: Optional[ListNode]) -> None:\n",
    "#         \"\"\"\n",
    "#         Do not return anything, modify head in-place instead.\n",
    "#         \"\"\"\n",
    "\n",
    "#         # dividing the list into equal half\n",
    "#         slow,fast=head,head.next\n",
    "#         while fast and fast.next:\n",
    "#             slow=slow.next\n",
    "#             fast=fast.next.next\n",
    "        \n",
    "\n",
    "#         # reversing the second half linked list\n",
    "#         second=slow.next\n",
    "#         slow.next=None\n",
    "#         prev=None\n",
    "#         while second:\n",
    "#             temp=second.next\n",
    "#             second.next=prev\n",
    "#             prev=second\n",
    "#             second=temp\n",
    "        \n",
    "#         # merging these two list according to the formula\n",
    "#         first,second=head,prev\n",
    "#         while second:\n",
    "#             temp1,temp2=first.next,second.next\n",
    "#             first.next=second\n",
    "#             second.next=temp1\n",
    "#             first=temp1\n",
    "#             second=temp2\n",
    "        \n"
   ]
  },
  {
   "cell_type": "markdown",
   "id": "a9c097d8-ca17-4271-881d-cff64da9ae7a",
   "metadata": {},
   "source": [
    "# Arrays :-"
   ]
  },
  {
   "cell_type": "markdown",
   "id": "94de3b69-2aea-4aac-95b4-46d7526fd8f4",
   "metadata": {},
   "source": [
    "##  1. Two Sum"
   ]
  },
  {
   "cell_type": "code",
   "execution_count": 2,
   "id": "0d0b1cbf-133a-4e0b-a5c4-6f9e267faafe",
   "metadata": {},
   "outputs": [
    {
     "name": "stdout",
     "output_type": "stream",
     "text": [
      "[0, 1]\n"
     ]
    }
   ],
   "source": [
    "def twoSum(nums: List[int], target: int) -> List[int]:\n",
    "\n",
    "    for i in range(len(nums)):\n",
    "        for j in range(i+1,len(nums)):\n",
    "            if nums[i]+nums[j]==target:\n",
    "                return [i,j]\n",
    "    return None\n",
    "print(twoSum([2,7,11,15],9))"
   ]
  },
  {
   "cell_type": "code",
   "execution_count": 3,
   "id": "59413acc-a0cc-470c-aee6-0bcf63785dad",
   "metadata": {},
   "outputs": [
    {
     "name": "stdout",
     "output_type": "stream",
     "text": [
      "[0, 1]\n"
     ]
    }
   ],
   "source": [
    "def twoSum(nums: List[int], target: int) -> List[int]:\n",
    "\n",
    "    prevMap={}\n",
    "\n",
    "    for index,value in enumerate(nums):\n",
    "        difference=target-value\n",
    "        if difference in prevMap:\n",
    "            return [prevMap[difference],index]\n",
    "        elif difference is not prevMap:\n",
    "            prevMap[value]=index\n",
    "    return None\n",
    "print(twoSum([2,7,11,15],9))"
   ]
  },
  {
   "cell_type": "code",
   "execution_count": 11,
   "id": "e0aaca2d-5982-4523-909f-9ed8ca587c0f",
   "metadata": {},
   "outputs": [
    {
     "name": "stdout",
     "output_type": "stream",
     "text": [
      "[0, 2]\n"
     ]
    }
   ],
   "source": [
    "# this will work only if list is sorted:-\n",
    "\n",
    "def twoSum(nums: List[int], target: int) -> List[int]:\n",
    "    nums=sorted(nums)\n",
    "\n",
    "    start=0\n",
    "    end=len(nums)-1\n",
    "    while start<end:\n",
    "        sum=nums[start]+nums[end]\n",
    "        if sum==target:\n",
    "            return [start,end]\n",
    "        elif sum<target:\n",
    "            start+=1\n",
    "        else:\n",
    "            end-=1\n",
    "        \n",
    "    return None\n",
    "print(twoSum([3,2,4],6))"
   ]
  },
  {
   "cell_type": "code",
   "execution_count": 8,
   "id": "b292cf78-5fb0-4465-aa98-f8fba98dc44f",
   "metadata": {},
   "outputs": [
    {
     "name": "stdout",
     "output_type": "stream",
     "text": [
      "6\n"
     ]
    }
   ],
   "source": [
    "nums1=[2,3,4,1,5,7]\n",
    "nums1=sorted(nums1)\n",
    "print(len(nums1))"
   ]
  },
  {
   "cell_type": "markdown",
   "id": "89665ca8-1662-4d06-9d8c-a8fd8fc1cac2",
   "metadata": {},
   "source": [
    "## 121. Best Time to Buy and Sell Stock\n"
   ]
  },
  {
   "cell_type": "code",
   "execution_count": 12,
   "id": "6cc21ff0-db5d-45d1-a654-d9332c83ea7a",
   "metadata": {},
   "outputs": [
    {
     "name": "stdout",
     "output_type": "stream",
     "text": [
      "5\n"
     ]
    }
   ],
   "source": [
    "def maxProfit(prices: List[int]) -> int:\n",
    "    left,right=0,1\n",
    "    maxp=0\n",
    "\n",
    "    while right<len(prices):\n",
    "        if prices[left]<prices[right]:\n",
    "            profit=prices[right]-prices[left]\n",
    "            maxp=max(maxp,profit)\n",
    "        else:\n",
    "            left=right\n",
    "        right+=1\n",
    "    return maxp\n",
    "print(maxProfit([7,1,5,3,6,4]))"
   ]
  },
  {
   "cell_type": "code",
   "execution_count": null,
   "id": "43569a85-e282-4196-8a40-6ff1addef0c0",
   "metadata": {},
   "outputs": [],
   "source": []
  }
 ],
 "metadata": {
  "kernelspec": {
   "display_name": "Python 3 (ipykernel)",
   "language": "python",
   "name": "python3"
  },
  "language_info": {
   "codemirror_mode": {
    "name": "ipython",
    "version": 3
   },
   "file_extension": ".py",
   "mimetype": "text/x-python",
   "name": "python",
   "nbconvert_exporter": "python",
   "pygments_lexer": "ipython3",
   "version": "3.11.2"
  }
 },
 "nbformat": 4,
 "nbformat_minor": 5
}
