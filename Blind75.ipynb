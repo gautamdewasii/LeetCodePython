{
 "cells": [
  {
   "cell_type": "markdown",
   "id": "3c23ab43-08a1-4a86-8779-709ccfadc11b",
   "metadata": {},
   "source": [
    "# Linked List"
   ]
  },
  {
   "cell_type": "markdown",
   "id": "3baca45f-cfe5-4c6b-a011-1971479f64e4",
   "metadata": {},
   "source": [
    "## Reverse a Linked List"
   ]
  },
  {
   "cell_type": "code",
   "execution_count": 3,
   "id": "85fde077-6dfd-4451-8817-af00a0b6023f",
   "metadata": {},
   "outputs": [
    {
     "name": "stdout",
     "output_type": "stream",
     "text": [
      "20\n",
      "30\n",
      "40\n",
      "50\n",
      "50\n",
      "40\n",
      "30\n",
      "20\n",
      "20\n"
     ]
    }
   ],
   "source": [
    "class Link:\n",
    "    \n",
    "    def __init__(self):\n",
    "        self.head=None\n",
    "    def insertAtBeg(self , data): \n",
    "        new_Node=Node(data)\n",
    "        new_Node.next=self.head\n",
    "        self.head=new_Node\n",
    "        \n",
    "    def display(self):\n",
    "        temp=self.head\n",
    "        if self.head is None:\n",
    "            print(\"LinkedLIst is Empty...\")\n",
    "        while temp:\n",
    "            print(temp.data)\n",
    "            temp=temp.next\n",
    "\n",
    "    # reverse a linked list using TWO POINTERS \n",
    "    # TIME 0(N) AND SPACE -> O(1)\n",
    "    # Using iteration method\n",
    "    def reverseList(self):\n",
    "        prev,current=None,self.head\n",
    "        while current:\n",
    "            next=current.next\n",
    "            current.next=prev\n",
    "            prev=current\n",
    "            current=next\n",
    "        while prev:\n",
    "            print(prev.data)\n",
    "            prev=prev.next        \n",
    "class Node:\n",
    "    def __init__(self,data):\n",
    "        self.data=data\n",
    "        self.next=None\n",
    "\n",
    "h=Link()\n",
    "n1=Node(20)\n",
    "h.head=n1\n",
    "n2=Node(30)\n",
    "n1.next=n2\n",
    "n3=Node(40)\n",
    "n2.next=n3\n",
    "n4=Node(50)\n",
    "n3.next=n4\n",
    "h.display()\n",
    "h.reverseList()"
   ]
  },
  {
   "cell_type": "code",
   "execution_count": 1,
   "id": "c0dc4fb0-f4e5-4238-9606-2e120c755500",
   "metadata": {},
   "outputs": [],
   "source": [
    "# #### Using recursion :-\n",
    "# #### time and space :- o(n)\n",
    "# def reverseList(self, head: Optional[ListNode]) -> Optional[ListNode]:\n",
    "        \n",
    "#         if not head:\n",
    "#             return None\n",
    "        \n",
    "#         newHead=head\n",
    "#         if head.next:\n",
    "#             newHead=self.reverseList(head.next)\n",
    "#             head.next.next=head\n",
    "#         head.next=None\n",
    "#         return newHead"
   ]
  },
  {
   "cell_type": "markdown",
   "id": "2faac78c-0fa0-475f-a8b9-02a55a589ad6",
   "metadata": {},
   "source": [
    "## 141. Linked List Cycle"
   ]
  },
  {
   "cell_type": "code",
   "execution_count": null,
   "id": "89ee3fee-35cc-4ced-b891-5cddb29b65d4",
   "metadata": {},
   "outputs": [],
   "source": [
    "# # using dictionary\n",
    "# space and time -> o(n)\n",
    "# def hasCycle(self, head: Optional[ListNode]) -> bool:\n",
    "\n",
    "#         dic ={}\n",
    "#         temp=head\n",
    "#         while temp:\n",
    "#             if temp in dic:\n",
    "#                 return True\n",
    "#             else:\n",
    "#                 dic[head]=True\n",
    "#             temp=temp.next\n",
    "#         return False"
   ]
  },
  {
   "cell_type": "code",
   "execution_count": null,
   "id": "ad40a8ec-d1d2-42ad-88ea-7b1b2843301f",
   "metadata": {},
   "outputs": [],
   "source": [
    "# # using list\n",
    "# space and time -> o(n)\n",
    "# def hasCycle(self, head: Optional[ListNode]) -> bool:\n",
    "\n",
    "#         address=[]\n",
    "#         temp=head\n",
    "#         while temp:\n",
    "#             address.append(temp)\n",
    "#             temp=temp.next\n",
    "#             if temp in address:\n",
    "#                 return True\n",
    "#         return False"
   ]
  },
  {
   "cell_type": "code",
   "execution_count": null,
   "id": "526d6e95-f82b-4943-9a72-34154ee66b26",
   "metadata": {},
   "outputs": [],
   "source": [
    "# # using Floyd's Tortoise and Hare ( fast and slow pointer )\n",
    "# space and time -> o(1) and o(n)\n",
    "# def hasCycle(self, head: Optional[ListNode]) -> bool:\n",
    "\n",
    "#         slow,fast=head,head\n",
    "\n",
    "#         while fast and fast.next:\n",
    "#             slow=slow.next\n",
    "#             fast=fast.next.next\n",
    "#             if slow==fast:\n",
    "#                 return True\n",
    "#         return False"
   ]
  },
  {
   "cell_type": "code",
   "execution_count": null,
   "id": "96d3f3b3-eddb-4120-8519-d6b0cd5ec4fc",
   "metadata": {},
   "outputs": [],
   "source": []
  }
 ],
 "metadata": {
  "kernelspec": {
   "display_name": "Python 3 (ipykernel)",
   "language": "python",
   "name": "python3"
  },
  "language_info": {
   "codemirror_mode": {
    "name": "ipython",
    "version": 3
   },
   "file_extension": ".py",
   "mimetype": "text/x-python",
   "name": "python",
   "nbconvert_exporter": "python",
   "pygments_lexer": "ipython3",
   "version": "3.11.2"
  }
 },
 "nbformat": 4,
 "nbformat_minor": 5
}
