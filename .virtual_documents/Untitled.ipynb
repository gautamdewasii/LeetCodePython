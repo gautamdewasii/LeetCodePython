nums=[1,2,3,4]


sum1=sum(nums)


sum1=3



